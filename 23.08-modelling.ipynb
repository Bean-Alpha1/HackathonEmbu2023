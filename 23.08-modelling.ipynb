{
 "cells": [
  {
   "cell_type": "markdown",
   "metadata": {},
   "source": [
    "# Modelling"
   ]
  },
  {
   "cell_type": "code",
   "execution_count": null,
   "metadata": {},
   "outputs": [],
   "source": [
    "import matplotlib.pyplot as plt\n",
    "import numpy as np\n",
    "import pandas as pd\n",
    "import seaborn as sns\n",
    "from scipy.integrate import solve_ivp\n",
    "\n",
    "\n",
    "def integrate(model, y0, parameters, t_end, n_points=100):\n",
    "    sol = solve_ivp(\n",
    "        lambda _, y, *args: model(*y, *args),\n",
    "        args=parameters,\n",
    "        y0=list(y0.values()),\n",
    "        t_span=(0, t_end),\n",
    "        t_eval=np.linspace(0, t_end, n_points),\n",
    "        method=\"LSODA\",\n",
    "    )\n",
    "    return pd.DataFrame(sol.y.T, index=sol.t, columns=y0.keys())"
   ]
  },
  {
   "cell_type": "code",
   "execution_count": null,
   "metadata": {},
   "outputs": [],
   "source": [
    "def exponential_growth(N, k):\n",
    "    return k * N\n",
    "\n",
    "df = integrate(\n",
    "    exponential_growth,\n",
    "    y0={\"N\": 1.0},\n",
    "    parameters=(1,),\n",
    "    t_end=5,\n",
    ")"
   ]
  },
  {
   "cell_type": "code",
   "execution_count": null,
   "metadata": {},
   "outputs": [],
   "source": [
    "df"
   ]
  },
  {
   "cell_type": "code",
   "execution_count": null,
   "metadata": {},
   "outputs": [],
   "source": [
    "df.plot()"
   ]
  },
  {
   "cell_type": "code",
   "execution_count": null,
   "metadata": {},
   "outputs": [],
   "source": []
  }
 ],
 "metadata": {
  "kernelspec": {
   "display_name": "py311",
   "language": "python",
   "name": "python3"
  },
  "language_info": {
   "codemirror_mode": {
    "name": "ipython",
    "version": 3
   },
   "file_extension": ".py",
   "mimetype": "text/x-python",
   "name": "python",
   "nbconvert_exporter": "python",
   "pygments_lexer": "ipython3",
   "version": "3.11.0"
  }
 },
 "nbformat": 4,
 "nbformat_minor": 2
}
