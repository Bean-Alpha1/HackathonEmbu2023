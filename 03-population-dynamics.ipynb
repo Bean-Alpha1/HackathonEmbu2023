{
 "cells": [
  {
   "cell_type": "markdown",
   "metadata": {},
   "source": [
    "# Population dynamics"
   ]
  },
  {
   "cell_type": "code",
   "execution_count": null,
   "metadata": {},
   "outputs": [],
   "source": [
    "import matplotlib.pyplot as plt\n",
    "import numpy as np\n",
    "import pandas as pd\n",
    "from scipy.integrate import solve_ivp\n",
    "\n",
    "\n",
    "def integrate(model, y0, args, t_end, n_points=100):\n",
    "    sol = solve_ivp(\n",
    "        model,\n",
    "        args=args,\n",
    "        y0=list(y0.values()),\n",
    "        t_span=(0, t_end),\n",
    "        t_eval=np.linspace(0, t_end, n_points),\n",
    "        method=\"LSODA\",\n",
    "    )\n",
    "    return pd.DataFrame(sol.y.T, index=sol.t, columns=y0.keys())"
   ]
  },
  {
   "cell_type": "markdown",
   "metadata": {},
   "source": [
    "## SIR model\n",
    "\n",
    "- Susceptible (S), Infected (I), Recovered (R)\n",
    "- Total population (N) = S + I + R\n",
    "\n",
    "$$\\begin{align*}\n",
    "    \\frac{dS}{dt} &= -\\beta \\frac{S \\cdot I}{N}  \\\\\n",
    "    \\frac{dI}{dt} &= \\beta \\frac{S \\cdot I}{N} - \\gamma \\cdot I \\\\\n",
    "    \\frac{dR}{dt} &= \\gamma \\cdot I \\\\\n",
    "\\end{align*}$$\n",
    "\n",
    "Let's start with a literal translation of that description."
   ]
  },
  {
   "cell_type": "code",
   "execution_count": null,
   "metadata": {},
   "outputs": [],
   "source": [
    "def sir_v1(t, y, beta, gamma):\n",
    "    s, i, r = y\n",
    "    n = s + i + r\n",
    "\n",
    "    dsdt = -beta * s * i / n\n",
    "    didt = beta * s * i / n - gamma * i\n",
    "    drdt = gamma * i\n",
    "    return dsdt, didt, drdt\n",
    "\n",
    "\n",
    "df = integrate(\n",
    "    sir_v1,\n",
    "    y0={\"S\": 0.9, \"I\": 0.1, \"R\": 0},\n",
    "    args=(2, 0.1),\n",
    "    t_end=10,\n",
    ")\n",
    "\n",
    "ax = df.plot()"
   ]
  },
  {
   "cell_type": "markdown",
   "metadata": {},
   "source": [
    "There is a lot of duplication in the code above (e.g. `beta * s * i / n` appears twice), let's improve on that."
   ]
  },
  {
   "cell_type": "code",
   "execution_count": null,
   "metadata": {},
   "outputs": [],
   "source": [
    "def sir_v2(t, y, beta, gamma):\n",
    "    s, i, r = y\n",
    "    n = s + i + r\n",
    "\n",
    "    infection = beta * s * i / n\n",
    "    recovery = gamma * i\n",
    "\n",
    "    dsdt = -infection\n",
    "    didt = infection - recovery\n",
    "    drdt = recovery\n",
    "    return dsdt, didt, drdt\n",
    "\n",
    "\n",
    "df = integrate(\n",
    "    sir_v2,\n",
    "    y0={\"S\": 0.9, \"I\": 0.1, \"R\": 0},\n",
    "    args=(2, 0.1),\n",
    "    t_end=10,\n",
    ")\n",
    "\n",
    "ax = df.plot()"
   ]
  }
 ],
 "metadata": {
  "kernelspec": {
   "display_name": "py311",
   "language": "python",
   "name": "python3"
  },
  "language_info": {
   "codemirror_mode": {
    "name": "ipython",
    "version": 3
   },
   "file_extension": ".py",
   "mimetype": "text/x-python",
   "name": "python",
   "nbconvert_exporter": "python",
   "pygments_lexer": "ipython3",
   "version": "3.11.4"
  }
 },
 "nbformat": 4,
 "nbformat_minor": 2
}
