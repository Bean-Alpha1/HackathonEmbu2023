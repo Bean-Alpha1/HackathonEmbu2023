{
 "cells": [
  {
   "cell_type": "markdown",
   "metadata": {},
   "source": [
    "# Python syntax and semantics\n",
    "\n",
    "Programming in every language at its core is about transforming data.  \n",
    "In order to build larger programs we need ways to structure both data and the transformations into larger constructs.  \n",
    "In the course of this tutorial we will learn a small set of ways to do both.  \n"
   ]
  },
  {
   "cell_type": "markdown",
   "metadata": {},
   "source": [
    "## Jupyter notebook overview\n",
    "\n",
    "* Splits code into cells\n",
    "    * Code cells\n",
    "    * Markdown cells\n",
    "* Command mode (**no blue border around code cell**)\n",
    "    * `Esc` to enter\n",
    "    * `A` to create cell above\n",
    "    * `B` to create cell below\n",
    "    * `D + D` to delete cell\n",
    "    * `M` to change cell type to Markdown\n",
    "    * `Y` to change cell type to Code\n",
    "* Edit mode (**with blue border around code cell**)\n",
    "    * `Enter`\n",
    "    * `Ctrl + Shift + -` Split cell at cursor position\n",
    "* Execute code in a cell\n",
    "    * `Ctrl + Enter` run selected cell\n",
    "    * `Shift + Enter` run selected cell and select below"
   ]
  },
  {
   "cell_type": "markdown",
   "metadata": {},
   "source": [
    "## Getting help and understanding errors\n",
    "\n",
    "Your code will produce errors and you will forget how certain functions work.  \n",
    "That's absolutely fine and nothing to worry about. \n",
    "Since no-one can remember everything, programmers usually build helpers for themselves.  \n",
    "\n",
    "Your first tool for that is a **comment**. You write comments following the `#` character.  \n",
    "\n",
    "```python\n",
    "# Future me: this is why I implemented the function in the following way\n",
    "```\n",
    "\n",
    "The second tool is a documentation string (or `docstring` for short).  \n",
    "You write docstrings in the first line of a function (more on that later).  \n",
    "\n",
    "```python\n",
    "def my_func():\n",
    "    \"\"\"Some very important information\"\"\"\n",
    "    return None\n",
    "```\n",
    "\n",
    "Other people also (hopefully) write `docstrings`.  \n",
    "For any function, you can call the `help` function to get its `docstring`.\n",
    "\n",
    "```python\n",
    "help(print)\n",
    "```\n",
    "\n",
    "If you want to know what methods are available for a given object, thet `dir()` function will tell you that.  \n",
    "Another quick way of checking this is to write `object.` and then use the `<TAB>` key to auto-complete.  \n",
    "\n",
    "```python\n",
    "dir(\"Hello, World\")\n",
    "```\n",
    "\n",
    "You will frequently encounter errors when programming - that perfectly normal, however you should learn to understand what they *mean*.  \n",
    "For example, if you type `\"1\" + 1` you will get something along the lines of  \n",
    "\n",
    "```TypeError: can only concatenate str (not \"int\") to str```.  \n",
    "\n",
    "Don't worry if you don't understand yet what that means, it hopefully will get clear in the next minutes.  \n",
    "Of course, you can always ask us if you don't know how to proceed\n"
   ]
  },
  {
   "cell_type": "code",
   "execution_count": null,
   "metadata": {},
   "outputs": [],
   "source": []
  },
  {
   "cell_type": "code",
   "execution_count": null,
   "metadata": {},
   "outputs": [],
   "source": []
  },
  {
   "cell_type": "code",
   "execution_count": null,
   "metadata": {},
   "outputs": [],
   "source": []
  },
  {
   "cell_type": "markdown",
   "metadata": {},
   "source": [
    "# Basic data types\n",
    "\n",
    "Python has four basic data types: `None`, `bool`, `int` and `float`\n",
    "\n",
    "| Type   | Value(s)                  | \n",
    "| ---    | ---                       | \n",
    "| `None` | `None`                    | \n",
    "|`bool`  |  `True`, `False`          |\n",
    "|`int`   |  ..., -1, 0, 1, ...       |\n",
    "|`float` |  ..., -3.14, 0.0, 2.71, ... |\n",
    "\n",
    "We will go through each of those four types, showing their use case and how they can be transformed.\n"
   ]
  },
  {
   "cell_type": "markdown",
   "metadata": {},
   "source": [
    "## Bool\n",
    "\n",
    "The boolean type `bool` can only hold the values `True` and `False`.  \n",
    "It can be used for simple logic operations.  \n",
    "There are five operators for `bool`.  \n",
    "\n",
    "| Operator | `True` if                            |\n",
    "| -------  | ---------                            |\n",
    "| `and`    | **both** the inputs are `True`       | \n",
    "| `or`     | one or both of the inputs are `True` | \n",
    "| `not`    | the input is `False`                 | \n",
    "| `==`     | both inputs are equal                | \n",
    "| `!=`     | both inputs are unequal              | "
   ]
  },
  {
   "cell_type": "code",
   "execution_count": null,
   "metadata": {},
   "outputs": [],
   "source": [
    "print(True and False)\n",
    "print(True or False)\n",
    "print(not True)\n",
    "print(True == True)\n",
    "print(True != False)"
   ]
  },
  {
   "cell_type": "markdown",
   "metadata": {},
   "source": [
    "### Exercise: logic / truth table\n",
    "\n",
    "Fill out the following truth table for two inputs `p` and `q`\n",
    "\n",
    "| p   | q   | p and q | p or q  | \n",
    "| --- | --- | ---     | ---     |\n",
    "| T   | T   | ?       | ?       |\n",
    "| T   | F   | ?       | ?       |\n",
    "| F   | T   | ?       | ?       |\n",
    "| F   | F   | ?       | ?       |\n"
   ]
  },
  {
   "cell_type": "code",
   "execution_count": null,
   "metadata": {},
   "outputs": [],
   "source": [
    "print(True and True, True or True)\n",
    "print(True and False, True or False)\n",
    "print(False and True, False or True)\n",
    "print(False and False, False or False)"
   ]
  },
  {
   "cell_type": "code",
   "execution_count": null,
   "metadata": {},
   "outputs": [],
   "source": []
  },
  {
   "cell_type": "code",
   "execution_count": null,
   "metadata": {},
   "outputs": [],
   "source": []
  },
  {
   "cell_type": "code",
   "execution_count": null,
   "metadata": {},
   "outputs": [],
   "source": []
  },
  {
   "cell_type": "markdown",
   "metadata": {},
   "source": [
    "## Function definition\n",
    "\n",
    "Before we continue exploring things to do with those data types, let's introduce an important building block for programs: **functions**.  \n",
    "\n",
    "With functions you can save a specific sequence of instructions to be run, so that you don't have to write out the entire sequence every time you want to run it.\n",
    "\n",
    "To create your own custom functions you need to define them before they can be called.  \n",
    "The basic syntax for this is \n",
    "\n",
    "- the keyword `def` followed by a `name` you can choose\n",
    "- the function parameters in parentheses followed by colon (`:`), and a line break\n",
    "- and then the **indented** function body\n",
    "- a **return statement**, indicating where to exit the function while returning a value\n",
    "\n",
    "\n",
    "A function can have zero `()`, one `(a)` or multiple `(a, b, ...)` arguments.  \n",
    "An example (with the **indentation of four spaces being part of the syntax**) below:\n",
    "\n",
    "<img src=\"./img/fn-dev.png\" style=\"width: 400px\">\n",
    "\n",
    "\n",
    "You have to use this syntax exactly. Try around a bit to see what happens, if you change minor things about it"
   ]
  },
  {
   "cell_type": "code",
   "execution_count": null,
   "metadata": {},
   "outputs": [],
   "source": [
    "def add(x, y):\n",
    "    return x + y"
   ]
  },
  {
   "cell_type": "code",
   "execution_count": null,
   "metadata": {},
   "outputs": [],
   "source": [
    "def add(x, y)\n",
    "    return x + y"
   ]
  },
  {
   "cell_type": "code",
   "execution_count": null,
   "metadata": {},
   "outputs": [],
   "source": [
    "def add x, y:\n",
    "    return x + y"
   ]
  },
  {
   "cell_type": "code",
   "execution_count": null,
   "metadata": {},
   "outputs": [],
   "source": [
    "add(x, y):\n",
    "    return x + y"
   ]
  },
  {
   "cell_type": "code",
   "execution_count": null,
   "metadata": {},
   "outputs": [],
   "source": [
    "def add(x, y):\n",
    "return x + y"
   ]
  },
  {
   "cell_type": "markdown",
   "metadata": {},
   "source": [
    "### Function calls\n",
    "\n",
    "To call a function, you use it's name and then supply the arguments in parentheses:\n",
    "\n",
    "```python\n",
    "print(True and False)\n",
    "```\n",
    "\n",
    "Again, you have to be precise about the syntax"
   ]
  },
  {
   "cell_type": "code",
   "execution_count": null,
   "metadata": {},
   "outputs": [],
   "source": [
    "print(True)\n",
    "print(True, False)"
   ]
  },
  {
   "cell_type": "code",
   "execution_count": null,
   "metadata": {},
   "outputs": [],
   "source": [
    "print True"
   ]
  },
  {
   "cell_type": "code",
   "execution_count": null,
   "metadata": {},
   "outputs": [],
   "source": [
    "print(True False)"
   ]
  },
  {
   "cell_type": "markdown",
   "metadata": {},
   "source": [
    "### Exercise: xor\n",
    "\n",
    "`XOR` (exclusive or) is `True` when **only one** of its inputs is `True`, so its closer to how we usually think of what the word `or` means.  \n",
    "For two propositions `p` and `q` the `xor` function can be written as \n",
    "\n",
    "$(p \\land \\neg q) \\lor (\\neg p \\land q)$\n",
    "\n",
    "with $\\land$ meaning `and`, $\\lor$ meaning `or` and $\\neg$ meaning `not`.\n",
    "\n",
    "Write a function `xor(p, q)` that takes two boolean values and returns the exclusive or of them.\n",
    "\n",
    "\n",
    "#### Note on solving the exercises\n",
    "\n",
    "In all following exercises you will be asked to write functions to implement certain behaviour.  \n",
    "In order to help you solve the puzzles on your own, we already supply the name of the functions, while you will have to replace the Ellipses (`...`) with actual code.  \n",
    "\n",
    "```python\n",
    "def xor(p, q):\n",
    "    ...  # replace this\n",
    "```\n",
    "\n",
    "Note that below the function we have already supplied `assert` statements.  \n",
    "\n",
    "\n",
    "```python\n",
    "assert xor(True, True) == False\n",
    "```\n",
    "\n",
    "These asserts will test your function, so you can check if it was implemented correctly and if not, for *which input* the output fails, which you can use as a guide to where the error in your implementation might be.  \n",
    "**Please don't change or remove those `assert` statements**.  \n",
    "\n",
    "\n"
   ]
  },
  {
   "cell_type": "code",
   "execution_count": null,
   "metadata": {},
   "outputs": [],
   "source": [
    "def xor(p, q):\n",
    "    return p and not q or not p and q\n",
    "\n",
    "\n",
    "assert xor(True, True) == False\n",
    "assert xor(True, False) == True\n",
    "assert xor(False, True) == True\n",
    "assert xor(False, False) == False"
   ]
  },
  {
   "cell_type": "code",
   "execution_count": null,
   "metadata": {},
   "outputs": [],
   "source": []
  },
  {
   "cell_type": "code",
   "execution_count": null,
   "metadata": {},
   "outputs": [],
   "source": []
  },
  {
   "cell_type": "code",
   "execution_count": null,
   "metadata": {},
   "outputs": [],
   "source": []
  },
  {
   "cell_type": "markdown",
   "metadata": {},
   "source": [
    "## Conditional control flow\n",
    "\n",
    "The real use case of boolean values becomes apparent when one uses them to control how the program executes.  \n",
    "This can be done with the `if` / `elif` / `else` statements, `elif` being short for `else if`.  \n",
    "Note that the `if` statement can stand completely alone, be optionally followed by an arbitrary amount of `elif` statements and lastly finished with an optional `else` statement.  \n",
    "So in the example below, both the `elif` and `else` block could have been omitted.  \n",
    "Just like with functions, **indentation of four spaces is part of the syntax**.  \n",
    "\n",
    "```python\n",
    "if it_rains():\n",
    "    pack_raincoat()\n",
    "elif it_is_sunny(): \n",
    "    pack_tshirt()\n",
    "else:\n",
    "    pack_jacket()\n",
    "```\n",
    "\n"
   ]
  },
  {
   "cell_type": "markdown",
   "metadata": {},
   "source": [
    "### Exercise: xor with branching\n",
    "\n",
    "Rewrite your `xor` function from above with `if` and `else` statements instead of the `and` or `or` operators."
   ]
  },
  {
   "cell_type": "code",
   "execution_count": null,
   "metadata": {},
   "outputs": [],
   "source": [
    "def xor_if_else(p, q):\n",
    "    if p:\n",
    "        if not q:\n",
    "            return True\n",
    "    else:\n",
    "        if q:\n",
    "            return True\n",
    "    return False\n",
    "\n",
    "\n",
    "assert xor_if_else(True, True) == False\n",
    "assert xor_if_else(True, False) == True\n",
    "assert xor_if_else(False, True) == True\n",
    "assert xor_if_else(False, False) == False"
   ]
  },
  {
   "cell_type": "code",
   "execution_count": null,
   "metadata": {},
   "outputs": [],
   "source": []
  },
  {
   "cell_type": "code",
   "execution_count": null,
   "metadata": {},
   "outputs": [],
   "source": []
  },
  {
   "cell_type": "code",
   "execution_count": null,
   "metadata": {},
   "outputs": [],
   "source": []
  },
  {
   "cell_type": "markdown",
   "metadata": {},
   "source": [
    "## Numbers\n",
    "\n",
    "There are two basic number types in Python: `int` and `float`.  \n",
    "`int` numbers don't have decimal digits, while `float` values do.  \n",
    "The usual arithmetic operations are defined, however they come with some sharp edges one should be aware of.  \n",
    "We will come back to them later on.\n",
    "\n",
    "| Operation            | Operator | \n",
    "| ---                  | ---      |\n",
    "| Addition             | `+`      |\n",
    "| Subtraction          | `-`      |\n",
    "| Multiplication       | `*`      |\n",
    "| Exponentiation       | `**`     |\n",
    "| Float Division       | `/`      |\n",
    "| Int (Floor) Division | `//`     |\n",
    "| Modulus              | `%`      |\n",
    "\n",
    "Just like with booleans we can compare if two numbers are exactly equal\n",
    "\n",
    "| Operator | Meaning       | \n",
    "| ---      | --- |\n",
    "| `==`     | Exactly equal |\n",
    "| `!=`     | Not equal |\n",
    "\n",
    "But we can also check whether one is larger or smaller than the other\n",
    "\n",
    "| Operator | Meaning       | \n",
    "| ---      | --- |\n",
    "| `>`      | Larger |\n",
    "| `>=`     | Larger or equal |\n",
    "| `<`      | Smaller |\n",
    "| `<=`     | Smaller or equal |\n"
   ]
  },
  {
   "cell_type": "markdown",
   "metadata": {},
   "source": [
    "### Exercise: multiple of two numbers\n",
    "\n",
    "Create a function that checks if a number is a multiple of two other numbers `a` and `b`\n",
    "\n",
    "**Hint**: the **modulo operator (%)** returns the remainder of a division\n",
    "\n",
    "| Input | Output |\n",
    "| ----- | ------ |\n",
    "| 4 % 3 | 1      |\n",
    "| 5 % 3 | 2      |\n",
    "| 6 % 3 | 0      |"
   ]
  },
  {
   "cell_type": "code",
   "execution_count": null,
   "metadata": {},
   "outputs": [],
   "source": [
    "def is_multiple_of_both(number, a, b):\n",
    "    if number % a == 0 and number % b == 0:\n",
    "        return True\n",
    "    return False\n",
    "\n",
    "\n",
    "assert is_multiple_of_both(2, 2, 1)\n",
    "assert is_multiple_of_both(6, 3, 2)\n",
    "assert not is_multiple_of_both(7, 3, 2)"
   ]
  },
  {
   "cell_type": "code",
   "execution_count": null,
   "metadata": {},
   "outputs": [],
   "source": []
  },
  {
   "cell_type": "code",
   "execution_count": null,
   "metadata": {},
   "outputs": [],
   "source": []
  },
  {
   "cell_type": "code",
   "execution_count": null,
   "metadata": {},
   "outputs": [],
   "source": []
  },
  {
   "cell_type": "markdown",
   "metadata": {},
   "source": [
    "## Assignment\n",
    "\n",
    "Before we continue exploring things to do with numbers, let's talk about **assignment statements**.  \n",
    "You can assign a value to a variable using the `name = value` syntax, for example\n",
    "\n",
    "```python\n",
    "x1 = 1\n",
    "```\n",
    "\n",
    "After you assigned a value to a variable, you can use the name to refer to the value\n",
    "\n",
    "```python\n",
    "print(x1)  # This prints \"1\"\n",
    "```\n",
    "\n",
    "Note that the syntax requires your name to start with an character.  \n",
    "\n",
    "```python\n",
    "1x = 1  # this doesn't work!\n",
    "```"
   ]
  },
  {
   "cell_type": "markdown",
   "metadata": {},
   "source": [
    "### Exercise: convert 24 hour clock to 12 hour clock face\n",
    "\n",
    "Write a function that transform a `[0, 24)` hour input to the `[1, 12]` hour range of a clock face.  \n",
    "\n",
    "**Hint**: again use the modulo operator `%`  \n",
    "**Hint**: `0` and `12` are special cases - why?  "
   ]
  },
  {
   "cell_type": "code",
   "execution_count": null,
   "metadata": {},
   "outputs": [],
   "source": [
    "def clock_face(hour: int) -> int:\n",
    "    converted = hour % 12\n",
    "    if converted == 0:\n",
    "        return 12\n",
    "    return converted\n",
    "\n",
    "\n",
    "assert clock_face(1) == clock_face(13) == 1\n",
    "assert clock_face(2) == clock_face(14) == 2\n",
    "assert clock_face(3) == clock_face(15) == 3\n",
    "assert clock_face(4) == clock_face(16) == 4\n",
    "assert clock_face(5) == clock_face(17) == 5\n",
    "assert clock_face(6) == clock_face(18) == 6\n",
    "assert clock_face(7) == clock_face(19) == 7\n",
    "assert clock_face(8) == clock_face(20) == 8\n",
    "assert clock_face(9) == clock_face(21) == 9\n",
    "assert clock_face(10) == clock_face(22) == 10\n",
    "assert clock_face(11) == clock_face(23) == 11\n",
    "assert clock_face(12) == clock_face(0) == 12"
   ]
  },
  {
   "cell_type": "code",
   "execution_count": null,
   "metadata": {},
   "outputs": [],
   "source": []
  },
  {
   "cell_type": "code",
   "execution_count": null,
   "metadata": {},
   "outputs": [],
   "source": []
  },
  {
   "cell_type": "code",
   "execution_count": null,
   "metadata": {},
   "outputs": [],
   "source": []
  },
  {
   "cell_type": "markdown",
   "metadata": {},
   "source": [
    "## None\n",
    "\n",
    "The `None` type is used to signify missing values or failure of computation.  \n",
    "To test whether a value is `None`, you use the `is` operator, which can be negated using the `not` operator.  \n"
   ]
  },
  {
   "cell_type": "code",
   "execution_count": null,
   "metadata": {},
   "outputs": [],
   "source": [
    "print(None is None)\n",
    "print(None is not None)"
   ]
  },
  {
   "cell_type": "markdown",
   "metadata": {},
   "source": [
    "### Exercise: safe division\n",
    "\n",
    "When you divide a number by `0` the program will crash and throw a `ZeroDivisionError`.  \n",
    "Define a function for a safe divide that instead returns `None` if division by 0 is attempted.  "
   ]
  },
  {
   "cell_type": "code",
   "execution_count": null,
   "metadata": {},
   "outputs": [],
   "source": [
    "def safe_divide(x: float, y: float) -> float | None:\n",
    "    if y == 0:\n",
    "        return None\n",
    "    return x / y\n",
    "\n",
    "\n",
    "assert safe_divide(1, 0) is None\n",
    "assert safe_divide(1, 1) is not None\n",
    "assert safe_divide(0, 1) is not None"
   ]
  },
  {
   "cell_type": "markdown",
   "metadata": {},
   "source": [
    "This is especially useful, as you will frequently encounter `TypeError`'s with `NoneType`.  \n",
    "For example, what do you think will happen, when you run the code below?\n",
    "\n",
    "```python\n",
    "safe_divide(1, 0) + 1\n",
    "```\n",
    "\n",
    "Understanding this source of error will help you solve many issues that will pop up with failed computations.  "
   ]
  },
  {
   "cell_type": "code",
   "execution_count": null,
   "metadata": {},
   "outputs": [],
   "source": []
  },
  {
   "cell_type": "code",
   "execution_count": null,
   "metadata": {},
   "outputs": [],
   "source": []
  },
  {
   "cell_type": "code",
   "execution_count": null,
   "metadata": {},
   "outputs": [],
   "source": []
  },
  {
   "cell_type": "markdown",
   "metadata": {},
   "source": [
    "## To Add\n",
    "\n",
    "- blocks, scopes\n",
    "- containers\n",
    "\n",
    "## Skipped\n",
    "\n",
    "- sharp edge: floating point numbers\n",
    "- augmented assignment\n",
    "- recursion\n",
    "- sharp edge: mutating immutable containers\n",
    "- classes / dataclasses\n",
    "- first-class functions\n",
    "- closures\n",
    "- file i/o\n",
    "- conventions\n",
    "- sets"
   ]
  },
  {
   "cell_type": "code",
   "execution_count": null,
   "metadata": {},
   "outputs": [],
   "source": []
  }
 ],
 "metadata": {
  "kernelspec": {
   "display_name": "embu",
   "language": "python",
   "name": "python3"
  },
  "language_info": {
   "codemirror_mode": {
    "name": "ipython",
    "version": 3
   },
   "file_extension": ".py",
   "mimetype": "text/x-python",
   "name": "python",
   "nbconvert_exporter": "python",
   "pygments_lexer": "ipython3",
   "version": "3.11.4"
  }
 },
 "nbformat": 4,
 "nbformat_minor": 2
}
