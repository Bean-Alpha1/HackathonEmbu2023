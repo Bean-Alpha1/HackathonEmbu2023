{
 "cells": [
  {
   "cell_type": "markdown",
   "metadata": {},
   "source": [
    "# Python syntax and semantics\n",
    "\n",
    "Programming in every language at its core is about transforming data.  \n",
    "In order to build larger programs we need ways to structure both data and the transformations into larger constructs.  \n",
    "In the course of this tutorial we will learn a small set of ways to do both.  \n"
   ]
  },
  {
   "cell_type": "markdown",
   "metadata": {},
   "source": [
    "## Jupyter notebook overview\n",
    "\n",
    "* Splits code into cells\n",
    "    * Code cells\n",
    "    * Markdown cells\n",
    "* Command mode (**no blue border around code cell**)\n",
    "    * `Esc` to enter\n",
    "    * `A` to create cell above\n",
    "    * `B` to create cell below\n",
    "    * `D + D` to delete cell\n",
    "    * `M` to change cell type to Markdown\n",
    "    * `Y` to change cell type to Code\n",
    "* Edit mode (**with blue border around code cell**)\n",
    "    * `Enter`\n",
    "    * `Ctrl + Shift + -` Split cell at cursor position\n",
    "* Execute code in a cell\n",
    "    * `Ctrl + Enter` run selected cell\n",
    "    * `Shift + Enter` run selected cell and select below"
   ]
  },
  {
   "cell_type": "markdown",
   "metadata": {},
   "source": [
    "## Getting help and understanding errors\n",
    "\n",
    "Your code will produce errors and you will forget how certain functions work.  \n",
    "That's absolutely fine and nothing to worry about. \n",
    "Since no-one can remember everything, programmers usually build helpers for themselves.  \n",
    "\n",
    "Your first tool for that is a **comment**. You write comments following the `#` character.  \n",
    "\n",
    "```python\n",
    "# Future me: this is why I implemented the function in the following way\n",
    "```\n",
    "\n",
    "The second tool is a documentation string (or `docstring` for short).  \n",
    "You write docstrings in the first line of a function (more on that later).  \n",
    "\n",
    "```python\n",
    "def my_func():\n",
    "    \"\"\"Some very important information\"\"\"\n",
    "    return None\n",
    "```\n",
    "\n",
    "Other people also (hopefully) write `docstrings`.  \n",
    "For any function, you can call the `help` function to get its `docstring`.\n",
    "\n",
    "```python\n",
    "help(print)\n",
    "```\n",
    "\n",
    "If you want to know what methods are available for a given object, thet `dir()` function will tell you that.  \n",
    "Another quick way of checking this is to write `object.` and then use the `<TAB>` key to auto-complete.  \n",
    "\n",
    "```python\n",
    "dir(\"Hello, World\")\n",
    "```\n",
    "\n",
    "You will frequently encounter errors when programming - that perfectly normal, however you should learn to understand what they *mean*.  \n",
    "For example, if you type `\"1\" + 1` you will get something along the lines of  \n",
    "\n",
    "```TypeError: can only concatenate str (not \"int\") to str```.  \n",
    "\n",
    "Don't worry if you don't understand yet what that means, it hopefully will get clear in the next minutes.  \n",
    "Of course, you can always ask us if you don't know how to proceed\n"
   ]
  },
  {
   "cell_type": "code",
   "execution_count": null,
   "metadata": {},
   "outputs": [],
   "source": []
  },
  {
   "cell_type": "code",
   "execution_count": null,
   "metadata": {},
   "outputs": [],
   "source": []
  },
  {
   "cell_type": "code",
   "execution_count": null,
   "metadata": {},
   "outputs": [],
   "source": []
  },
  {
   "cell_type": "markdown",
   "metadata": {},
   "source": [
    "# Basic data types\n",
    "\n",
    "Python has four basic data types: `None`, `bool`, `int` and `float`\n",
    "\n",
    "| Type   | Value(s)                  | \n",
    "| ---    | ---                       | \n",
    "| `None` | `None`                    | \n",
    "|`bool`  |  `True`, `False`          |\n",
    "|`int`   |  ..., -1, 0, 1, ...       |\n",
    "|`float` |  ..., -3.14, 0.0, 2.71, ... |\n",
    "\n",
    "We will go through each of those four types, showing their use case and how they can be transformed.\n"
   ]
  },
  {
   "cell_type": "markdown",
   "metadata": {},
   "source": [
    "## Bool\n",
    "\n",
    "The boolean type `bool` can only hold the values `True` and `False`.  \n",
    "It can be used for simple logic operations.  \n",
    "There are five operators for `bool`.  \n",
    "\n",
    "| Operator | `True` if                            |\n",
    "| -------  | ---------                            |\n",
    "| `and`    | **both** the inputs are `True`       | \n",
    "| `or`     | one or both of the inputs are `True` | \n",
    "| `not`    | the input is `False`                 | \n",
    "| `==`     | both inputs are equal                | \n",
    "| `!=`     | both inputs are unequal              | "
   ]
  },
  {
   "cell_type": "code",
   "execution_count": null,
   "metadata": {},
   "outputs": [],
   "source": [
    "print(True and False)\n",
    "print(True or False)\n",
    "print(not True)\n",
    "print(True == True)\n",
    "print(True != False)"
   ]
  },
  {
   "cell_type": "markdown",
   "metadata": {},
   "source": [
    "### Exercise: logic / truth table\n",
    "\n",
    "Fill out the following truth table for two inputs `p` and `q`\n",
    "\n",
    "| p   | q   | p and q | p or q  | \n",
    "| --- | --- | ---     | ---     |\n",
    "| T   | T   | ?       | ?       |\n",
    "| T   | F   | ?       | ?       |\n",
    "| F   | T   | ?       | ?       |\n",
    "| F   | F   | ?       | ?       |\n"
   ]
  },
  {
   "cell_type": "code",
   "execution_count": null,
   "metadata": {},
   "outputs": [],
   "source": [
    "print(True and True, True or True)\n",
    "print(True and False, True or False)\n",
    "print(False and True, False or True)\n",
    "print(False and False, False or False)"
   ]
  },
  {
   "cell_type": "code",
   "execution_count": null,
   "metadata": {},
   "outputs": [],
   "source": []
  },
  {
   "cell_type": "code",
   "execution_count": null,
   "metadata": {},
   "outputs": [],
   "source": []
  },
  {
   "cell_type": "code",
   "execution_count": null,
   "metadata": {},
   "outputs": [],
   "source": []
  },
  {
   "cell_type": "markdown",
   "metadata": {},
   "source": [
    "## Function definition\n",
    "\n",
    "Before we continue exploring things to do with those data types, let's introduce an important building block for programs: **functions**.  \n",
    "\n",
    "With functions you can save a specific sequence of instructions to be run, so that you don't have to write out the entire sequence every time you want to run it.\n",
    "\n",
    "To create your own custom functions you need to define them before they can be called.  \n",
    "The basic syntax for this is \n",
    "\n",
    "- the keyword `def` followed by a `name` you can choose\n",
    "- the function parameters in parentheses followed by colon (`:`), and a line break\n",
    "- and then the **indented** function body\n",
    "- a **return statement**, indicating where to exit the function while returning a value\n",
    "\n",
    "\n",
    "A function can have zero `()`, one `(a)` or multiple `(a, b, ...)` arguments.  \n",
    "An example (with the **indentation of four spaces being part of the syntax**) below:\n",
    "\n",
    "<img src=\"./img/fn-dev.png\" style=\"width: 400px\">\n",
    "\n",
    "\n",
    "You have to use this syntax exactly. Try around a bit to see what happens, if you change minor things about it"
   ]
  },
  {
   "cell_type": "code",
   "execution_count": null,
   "metadata": {},
   "outputs": [],
   "source": [
    "def add(x, y):\n",
    "    return x + y"
   ]
  },
  {
   "cell_type": "code",
   "execution_count": null,
   "metadata": {},
   "outputs": [],
   "source": [
    "def add(x, y)\n",
    "    return x + y"
   ]
  },
  {
   "cell_type": "code",
   "execution_count": null,
   "metadata": {},
   "outputs": [],
   "source": [
    "def add x, y:\n",
    "    return x + y"
   ]
  },
  {
   "cell_type": "code",
   "execution_count": null,
   "metadata": {},
   "outputs": [],
   "source": [
    "add(x, y):\n",
    "    return x + y"
   ]
  },
  {
   "cell_type": "code",
   "execution_count": null,
   "metadata": {},
   "outputs": [],
   "source": [
    "def add(x, y):\n",
    "return x + y"
   ]
  },
  {
   "cell_type": "markdown",
   "metadata": {},
   "source": [
    "### Function calls\n",
    "\n",
    "To call a function, you use it's name and then supply the arguments in parentheses:\n",
    "\n",
    "```python\n",
    "print(True and False)\n",
    "```\n",
    "\n",
    "Again, you have to be precise about the syntax"
   ]
  },
  {
   "cell_type": "code",
   "execution_count": null,
   "metadata": {},
   "outputs": [],
   "source": [
    "print(True)\n",
    "print(True, False)"
   ]
  },
  {
   "cell_type": "code",
   "execution_count": null,
   "metadata": {},
   "outputs": [],
   "source": [
    "print True"
   ]
  },
  {
   "cell_type": "code",
   "execution_count": null,
   "metadata": {},
   "outputs": [],
   "source": [
    "print(True False)"
   ]
  },
  {
   "cell_type": "markdown",
   "metadata": {},
   "source": [
    "### Exercise: xor\n",
    "\n",
    "`XOR` (exclusive or) is `True` when **only one** of its inputs is `True`, so its closer to how we usually think of what the word `or` means.  \n",
    "For two propositions `p` and `q` the `xor` function can be written as \n",
    "\n",
    "$(p \\land \\neg q) \\lor (\\neg p \\land q)$\n",
    "\n",
    "with $\\land$ meaning `and`, $\\lor$ meaning `or` and $\\neg$ meaning `not`.\n",
    "\n",
    "Write a function `xor(p, q)` that takes two boolean values and returns the exclusive or of them.\n",
    "\n",
    "\n",
    "#### Note on solving the exercises\n",
    "\n",
    "In all following exercises you will be asked to write functions to implement certain behaviour.  \n",
    "In order to help you solve the puzzles on your own, we already supply the name of the functions, while you will have to replace the Ellipses (`...`) with actual code.  \n",
    "\n",
    "```python\n",
    "def xor(p, q):\n",
    "    ...  # replace this\n",
    "```\n",
    "\n",
    "Note that below the function we have already supplied `assert` statements.  \n",
    "\n",
    "\n",
    "```python\n",
    "assert xor(True, True) == False\n",
    "```\n",
    "\n",
    "These asserts will test your function, so you can check if it was implemented correctly and if not, for *which input* the output fails, which you can use as a guide to where the error in your implementation might be.  \n",
    "**Please don't change or remove those `assert` statements**.  \n",
    "\n",
    "\n"
   ]
  },
  {
   "cell_type": "code",
   "execution_count": null,
   "metadata": {},
   "outputs": [],
   "source": [
    "def xor(p, q):\n",
    "    return p and not q or not p and q\n",
    "\n",
    "\n",
    "assert xor(True, True) == False\n",
    "assert xor(True, False) == True\n",
    "assert xor(False, True) == True\n",
    "assert xor(False, False) == False"
   ]
  },
  {
   "cell_type": "code",
   "execution_count": null,
   "metadata": {},
   "outputs": [],
   "source": []
  },
  {
   "cell_type": "code",
   "execution_count": null,
   "metadata": {},
   "outputs": [],
   "source": []
  },
  {
   "cell_type": "code",
   "execution_count": null,
   "metadata": {},
   "outputs": [],
   "source": []
  },
  {
   "cell_type": "markdown",
   "metadata": {},
   "source": [
    "## Conditional control flow\n",
    "\n",
    "The real use case of boolean values becomes apparent when one uses them to control how the program executes.  \n",
    "This can be done with the `if` / `elif` / `else` statements, `elif` being short for `else if`.  \n",
    "Note that the `if` statement can stand completely alone, be optionally followed by an arbitrary amount of `elif` statements and lastly finished with an optional `else` statement.  \n",
    "So in the example below, both the `elif` and `else` block could have been omitted.  \n",
    "Just like with functions, **indentation of four spaces is part of the syntax**.  \n",
    "\n",
    "```python\n",
    "if it_rains():\n",
    "    pack_raincoat()\n",
    "elif it_is_sunny(): \n",
    "    pack_tshirt()\n",
    "else:\n",
    "    pack_jacket()\n",
    "```\n",
    "\n"
   ]
  },
  {
   "cell_type": "markdown",
   "metadata": {},
   "source": [
    "### Exercise: xor with branching\n",
    "\n",
    "Rewrite your `xor` function from above with `if` and `else` statements instead of the `and` or `or` operators."
   ]
  },
  {
   "cell_type": "code",
   "execution_count": null,
   "metadata": {},
   "outputs": [],
   "source": [
    "def xor_if_else(p, q):\n",
    "    if p:\n",
    "        if not q:\n",
    "            return True\n",
    "    else:\n",
    "        if q:\n",
    "            return True\n",
    "    return False\n",
    "\n",
    "\n",
    "assert xor_if_else(True, True) == False\n",
    "assert xor_if_else(True, False) == True\n",
    "assert xor_if_else(False, True) == True\n",
    "assert xor_if_else(False, False) == False"
   ]
  },
  {
   "cell_type": "code",
   "execution_count": null,
   "metadata": {},
   "outputs": [],
   "source": []
  },
  {
   "cell_type": "code",
   "execution_count": null,
   "metadata": {},
   "outputs": [],
   "source": []
  },
  {
   "cell_type": "code",
   "execution_count": null,
   "metadata": {},
   "outputs": [],
   "source": []
  },
  {
   "cell_type": "markdown",
   "metadata": {},
   "source": [
    "## Numbers\n",
    "\n",
    "There are two basic number types in Python: `int` and `float`.  \n",
    "`int` numbers don't have decimal digits, while `float` values do.  \n",
    "The usual arithmetic operations are defined, however they come with some sharp edges one should be aware of.  \n",
    "We will come back to them later on.\n",
    "\n",
    "| Operation            | Operator | \n",
    "| ---                  | ---      |\n",
    "| Addition             | `+`      |\n",
    "| Subtraction          | `-`      |\n",
    "| Multiplication       | `*`      |\n",
    "| Exponentiation       | `**`     |\n",
    "| Float Division       | `/`      |\n",
    "| Int (Floor) Division | `//`     |\n",
    "| Modulus              | `%`      |\n",
    "\n",
    "Just like with booleans we can compare if two numbers are exactly equal\n",
    "\n",
    "| Operator | Meaning       | \n",
    "| ---      | --- |\n",
    "| `==`     | Exactly equal |\n",
    "| `!=`     | Not equal |\n",
    "\n",
    "But we can also check whether one is larger or smaller than the other\n",
    "\n",
    "| Operator | Meaning       | \n",
    "| ---      | --- |\n",
    "| `>`      | Larger |\n",
    "| `>=`     | Larger or equal |\n",
    "| `<`      | Smaller |\n",
    "| `<=`     | Smaller or equal |\n"
   ]
  },
  {
   "cell_type": "markdown",
   "metadata": {},
   "source": [
    "### Exercise: multiple of two numbers\n",
    "\n",
    "Create a function that checks if a number is a multiple of two other numbers `a` and `b`\n",
    "\n",
    "**Hint**: the **modulo operator (%)** returns the remainder of a division\n",
    "\n",
    "| Input | Output |\n",
    "| ----- | ------ |\n",
    "| 4 % 3 | 1      |\n",
    "| 5 % 3 | 2      |\n",
    "| 6 % 3 | 0      |"
   ]
  },
  {
   "cell_type": "code",
   "execution_count": null,
   "metadata": {},
   "outputs": [],
   "source": [
    "def is_multiple_of_both(number, a, b):\n",
    "    if number % a == 0 and number % b == 0:\n",
    "        return True\n",
    "    return False\n",
    "\n",
    "\n",
    "assert is_multiple_of_both(2, 2, 1)\n",
    "assert is_multiple_of_both(6, 3, 2)\n",
    "assert not is_multiple_of_both(7, 3, 2)"
   ]
  },
  {
   "cell_type": "code",
   "execution_count": null,
   "metadata": {},
   "outputs": [],
   "source": []
  },
  {
   "cell_type": "code",
   "execution_count": null,
   "metadata": {},
   "outputs": [],
   "source": []
  },
  {
   "cell_type": "code",
   "execution_count": null,
   "metadata": {},
   "outputs": [],
   "source": []
  },
  {
   "cell_type": "markdown",
   "metadata": {},
   "source": [
    "## Assignment\n",
    "\n",
    "Before we continue exploring things to do with numbers, let's talk about **assignment statements**.  \n",
    "You can assign a value to a variable using the `name = value` syntax, for example\n",
    "\n",
    "```python\n",
    "x1 = 1\n",
    "```\n",
    "\n",
    "After you assigned a value to a variable, you can use the name to refer to the value\n",
    "\n",
    "```python\n",
    "print(x1)  # This prints \"1\"\n",
    "```\n",
    "\n",
    "Note that the syntax requires your name to start with an character.  \n",
    "\n",
    "```python\n",
    "1x = 1  # this doesn't work!\n",
    "```"
   ]
  },
  {
   "cell_type": "markdown",
   "metadata": {},
   "source": [
    "### Exercise: convert 24 hour clock to 12 hour clock face\n",
    "\n",
    "Write a function that transform a `[0, 24)` hour input to the `[1, 12]` hour range of a clock face.  \n",
    "\n",
    "**Hint**: again use the modulo operator `%`  \n",
    "**Hint**: `0` and `12` are special cases - why?  "
   ]
  },
  {
   "cell_type": "code",
   "execution_count": null,
   "metadata": {},
   "outputs": [],
   "source": [
    "def clock_face(hour):\n",
    "    converted = hour % 12\n",
    "    if converted == 0:\n",
    "        return 12\n",
    "    return converted\n",
    "\n",
    "\n",
    "assert clock_face(1) == clock_face(13) == 1\n",
    "assert clock_face(2) == clock_face(14) == 2\n",
    "assert clock_face(3) == clock_face(15) == 3\n",
    "assert clock_face(4) == clock_face(16) == 4\n",
    "assert clock_face(5) == clock_face(17) == 5\n",
    "assert clock_face(6) == clock_face(18) == 6\n",
    "assert clock_face(7) == clock_face(19) == 7\n",
    "assert clock_face(8) == clock_face(20) == 8\n",
    "assert clock_face(9) == clock_face(21) == 9\n",
    "assert clock_face(10) == clock_face(22) == 10\n",
    "assert clock_face(11) == clock_face(23) == 11\n",
    "assert clock_face(12) == clock_face(0) == 12"
   ]
  },
  {
   "cell_type": "code",
   "execution_count": null,
   "metadata": {},
   "outputs": [],
   "source": []
  },
  {
   "cell_type": "code",
   "execution_count": null,
   "metadata": {},
   "outputs": [],
   "source": []
  },
  {
   "cell_type": "code",
   "execution_count": null,
   "metadata": {},
   "outputs": [],
   "source": []
  },
  {
   "cell_type": "markdown",
   "metadata": {},
   "source": [
    "## None\n",
    "\n",
    "The `None` type is used to signify missing values or failure of computation.  \n",
    "To test whether a value is `None`, you use the `is` operator, which can be negated using the `not` operator.  \n"
   ]
  },
  {
   "cell_type": "code",
   "execution_count": null,
   "metadata": {},
   "outputs": [],
   "source": [
    "print(None is None)\n",
    "print(None is not None)"
   ]
  },
  {
   "cell_type": "markdown",
   "metadata": {},
   "source": [
    "### Exercise: safe division\n",
    "\n",
    "When you divide a number by `0` the program will crash and throw a `ZeroDivisionError`.  \n",
    "Define a function for a safe divide that instead returns `None` if division by 0 is attempted.  "
   ]
  },
  {
   "cell_type": "code",
   "execution_count": null,
   "metadata": {},
   "outputs": [],
   "source": [
    "def safe_divide(x, y):\n",
    "    if y == 0:\n",
    "        return None\n",
    "    return x / y\n",
    "\n",
    "\n",
    "assert safe_divide(1, 0) is None\n",
    "assert safe_divide(1, 1) is not None\n",
    "assert safe_divide(0, 1) is not None"
   ]
  },
  {
   "cell_type": "markdown",
   "metadata": {},
   "source": [
    "This is especially useful, as you will frequently encounter `TypeError`'s with `NoneType`.  \n",
    "For example, what do you think will happen, when you run the code below?\n",
    "\n",
    "```python\n",
    "safe_divide(1, 0) + 1\n",
    "```\n",
    "\n",
    "Understanding this source of error will help you solve many issues that will pop up with failed computations.  "
   ]
  },
  {
   "cell_type": "code",
   "execution_count": null,
   "metadata": {},
   "outputs": [],
   "source": []
  },
  {
   "cell_type": "code",
   "execution_count": null,
   "metadata": {},
   "outputs": [],
   "source": []
  },
  {
   "cell_type": "code",
   "execution_count": null,
   "metadata": {},
   "outputs": [],
   "source": []
  },
  {
   "cell_type": "markdown",
   "metadata": {},
   "source": [
    "## Objects\n",
    "\n",
    "Python is an object-oriented language, so everything in Python is an object.  \n",
    "But what are objects actually?  \n",
    "At their core, they are a way to bundle **data** with **methods**, which are functions attached to the object.  \n",
    "You can access both the data and the methods using the **dot notation** so \n",
    "\n",
    "- `object.data`  \n",
    "- `object.method()` (don't forget the parentheses `()` here)\n",
    "\n",
    "respectively. \n",
    "I've written a small function that will print out all available data and methods.  \n",
    "Let's check this for a floating point number.  "
   ]
  },
  {
   "cell_type": "code",
   "execution_count": null,
   "metadata": {},
   "outputs": [],
   "source": [
    "def print_public_contents(obj):\n",
    "    public = [i for i in dir(obj) if not i.startswith(\"_\")]\n",
    "    data = []\n",
    "    methods = []\n",
    "    for i in public:\n",
    "        if callable(getattr(obj, i)):\n",
    "            methods.append(i)\n",
    "        else:\n",
    "            data.append(i)\n",
    "    print(\"data: \", data)\n",
    "    print(\"methods: \", methods)\n",
    "\n",
    "a = 0.5\n",
    "\n",
    "print_public_contents(a)"
   ]
  },
  {
   "cell_type": "code",
   "execution_count": null,
   "metadata": {},
   "outputs": [],
   "source": [
    "a.as_integer_ratio()"
   ]
  },
  {
   "cell_type": "code",
   "execution_count": null,
   "metadata": {},
   "outputs": [],
   "source": []
  },
  {
   "cell_type": "code",
   "execution_count": null,
   "metadata": {},
   "outputs": [],
   "source": []
  },
  {
   "cell_type": "code",
   "execution_count": null,
   "metadata": {},
   "outputs": [],
   "source": []
  },
  {
   "cell_type": "markdown",
   "metadata": {},
   "source": [
    "# Containers\n",
    "\n",
    "Single data points are fine, but a simple calculator would be enough to work with them.  \n",
    "Most of the time we are working with loads of data, so we need ways to pack it together in an easy fashion.  \n",
    "Since different arragements make certain transformations easier, there is a variety of containers for data.  \n",
    "The containers we will be handling\n",
    "\n",
    "- **tuples**: `(1, 2)`\n",
    "- **lists**: `[1, 2]`\n",
    "- **strings**: `\"Hello, World!\"`\n",
    "- **dictionaries**: `{\"key\": value}`\n"
   ]
  },
  {
   "cell_type": "markdown",
   "metadata": {},
   "source": [
    "## Tuples\n",
    "\n",
    "Tuples are immutable (meaning you can't change their content after creation) containers to bundle small amounts of data.  \n",
    "They can be created using their literal syntax\n",
    "\n",
    "```python\n",
    "my_tuple = (1, 2)\n",
    "```\n",
    "\n",
    "You might notice the similarity to the way you defined function arguments\n",
    "\n",
    "```python\n",
    "def my_func(x, y):\n",
    "    ...\n",
    "```\n",
    "\n",
    "and called functions\n",
    "\n",
    "```python\n",
    "my_func(1, 2)\n",
    "```\n",
    "\n",
    "That similarity is on purpose!  \n",
    "You can think of every function as just having a single argument (that argument being a tuple) and returning a single value (that argument also being a tuple).  "
   ]
  },
  {
   "cell_type": "markdown",
   "metadata": {},
   "source": [
    "### Exercise: return multiple values"
   ]
  },
  {
   "cell_type": "code",
   "execution_count": null,
   "metadata": {},
   "outputs": [],
   "source": [
    "def square_two_numbers(x, y):\n",
    "    return x**2, y**2\n",
    "\n",
    "\n",
    "assert square_two_numbers(1, 2) == (1, 4)\n",
    "assert square_two_numbers(2, 3) == (4, 9)\n",
    "assert square_two_numbers(3, 4) == (9, 16)"
   ]
  },
  {
   "cell_type": "code",
   "execution_count": null,
   "metadata": {},
   "outputs": [],
   "source": []
  },
  {
   "cell_type": "code",
   "execution_count": null,
   "metadata": {},
   "outputs": [],
   "source": []
  },
  {
   "cell_type": "markdown",
   "metadata": {},
   "source": [
    "## Lists\n",
    "\n",
    "Lists, like tuples, are used to bundle arbitrary data.  \n",
    "However, you can manipulate lists, e.g. change elements, add new ones or remove some.  \n",
    "\n",
    "You can create them using their literal syntax\n",
    "\n",
    "```python\n",
    "my_list = [1, 2, 3]\n",
    "```\n",
    "\n",
    "Depending on the use case, you might want the change the list **in-place**, or create a **new** list.  \n",
    "Below are some operations you can perform on lists that either change the list, or create a new one.  \n",
    "\n",
    "| Operation             | Method (mutating in-place) | Free function (creating a *new* list) |\n",
    "| ---                   | ---                        | ---                                   |\n",
    "| add a single value    | `my_list.append(value)`    | `my_list + [3]`                       |\n",
    "| add multiple values   | `my_list.extend(values)`   | `my_list + [3, 4]`                    |\n",
    "| remove value at idx   | `my_list.pop(idx)`         | `my_list[:idx] + my_list[idx + 1:]`   | \n",
    "| remove specific value | `my_list.remove(value)`    | `idx = l.index(value)`, then ↑        | \n",
    "| sort                  | `my_list.sort`             | `sorted(my_list)`                     |\n",
    "| reverse               | `my_list.reverse`          | `my_list[::-1]`                       |"
   ]
  },
  {
   "cell_type": "markdown",
   "metadata": {},
   "source": [
    "### Exercise: mutate conditionally"
   ]
  },
  {
   "cell_type": "code",
   "execution_count": null,
   "metadata": {},
   "outputs": [],
   "source": [
    "def append_conditionally_mutate(l, value, inplace):\n",
    "    if inplace:\n",
    "        l.append(value)\n",
    "        return l\n",
    "    else:\n",
    "        return l + [value]\n",
    "\n",
    "\n",
    "assert id(l := [1, 2, 3]) == id(append_conditionally_mutate(l, 4, inplace=True))\n",
    "assert id(l := [1, 2, 3]) != id(append_conditionally_mutate(l, 4, inplace=False))"
   ]
  },
  {
   "cell_type": "code",
   "execution_count": null,
   "metadata": {},
   "outputs": [],
   "source": []
  },
  {
   "cell_type": "code",
   "execution_count": null,
   "metadata": {},
   "outputs": [],
   "source": []
  },
  {
   "cell_type": "code",
   "execution_count": null,
   "metadata": {},
   "outputs": [],
   "source": []
  },
  {
   "cell_type": "markdown",
   "metadata": {},
   "source": [
    "## Strings\n",
    "\n",
    "Unlike tuples and lists, strings only contain a single data type: text.  \n",
    "\n",
    "Strings are created using their literal syntax either single or double quotation marks.  \n",
    "\n",
    "```python\n",
    "my_string = \"Hello, World\"\n",
    "my_string = 'Hello, World'\n",
    "```\n",
    "\n",
    "The two different versions are equivalent, but allow you to use the other version to indicate a quotation inside your string.\n",
    "\n",
    "```python\n",
    "my_string = \"Hello, 'World'\"\n",
    "```\n",
    "\n",
    "There is a multitude of things you can do with strings - but since our focus will be numerical computing I will ignore the vast majority of it - the tutorial is already quite long as it is.  \n",
    "For now the only thing we are going to do with strings is to include additional information in them.  \n",
    "We will do that using string interpolation - a scary word, but a simple concept.  \n",
    "If you prepend your strings with an `f`, you can then introduce any valid expression into that string by enclosing the expression into braces.  \n",
    "\n",
    "```python\n",
    "f\"Some text {any_valid_expression} some more text\"\n",
    "```\n",
    "\n",
    "While the normal interpolation works most of the time, you might want to format your input a bit more.  \n",
    "The syntax for this is `expression:format`.  \n",
    "The format specifier will very by data type, below are a few common examples.  "
   ]
  },
  {
   "cell_type": "code",
   "execution_count": null,
   "metadata": {},
   "outputs": [],
   "source": [
    "my_new_content = \"Hello, World\"\n",
    "\n",
    "# Pad with spaces\n",
    "print(f\"Some stuff before. {my_new_content:^20}. Some stuff afterwards.\")\n",
    "print(f\"Some stuff before. {my_new_content:<20}. Some stuff afterwards.\")\n",
    "print(f\"Some stuff before. {my_new_content:>20}. Some stuff afterwards.\")"
   ]
  },
  {
   "cell_type": "code",
   "execution_count": null,
   "metadata": {},
   "outputs": [],
   "source": [
    "# Truncate\n",
    "print(f\"Some stuff before. {my_new_content:.7}. Some stuff afterwards.\")"
   ]
  },
  {
   "cell_type": "code",
   "execution_count": null,
   "metadata": {},
   "outputs": [],
   "source": [
    "# Truncate and pad\n",
    "print(f\"Some stuff before. {my_new_content:^10.5}. Some stuff afterwards.\")"
   ]
  },
  {
   "cell_type": "code",
   "execution_count": null,
   "metadata": {},
   "outputs": [],
   "source": [
    "# Ints\n",
    "\n",
    "value = 1\n",
    "print(f\"Leading zeros: {value:04d}\")\n",
    "\n",
    "print(f\"Leading sign: {1:+d}\")\n",
    "print(f\"Leading sign: {-1:+d}\")\n",
    "\n",
    "print(f\"Leading sign or zero: {1: d}\")\n",
    "print(f\"Leading sign or zero: {-1: d}\")\n",
    "\n",
    "\n",
    "print(f\"Space padding: {value:4d}\")"
   ]
  },
  {
   "cell_type": "code",
   "execution_count": null,
   "metadata": {},
   "outputs": [],
   "source": [
    "# Floats\n",
    "\n",
    "value = 0.12345\n",
    "print(f\"Decimal notation:    {value:.2f}\")\n",
    "print(f\"Scientific notation: {value:.2e}\")\n",
    "print(f\"Percentage notation: {value:.2%}\")"
   ]
  },
  {
   "cell_type": "code",
   "execution_count": null,
   "metadata": {},
   "outputs": [],
   "source": [
    "my_int = 5\n",
    "my_float = 0.0512\n",
    "\n",
    "print(f\"The value of my_int is {my_int}\")\n",
    "print(\n",
    "    f\"The value of float is {my_float:.3f}, which you can also express as {my_float:.1%}\"\n",
    ")"
   ]
  },
  {
   "cell_type": "markdown",
   "metadata": {},
   "source": [
    "### Exercise: clock face revisited\n",
    "\n",
    "Write a function `clock_face_str` that takes the inputs 0-23 for hour and 0-59 for minute respectively (you don't have to check that) and returns the time in 12 hour format, including the am / pm part."
   ]
  },
  {
   "cell_type": "code",
   "execution_count": null,
   "metadata": {},
   "outputs": [],
   "source": [
    "def clock_face_str(hour, minute):\n",
    "    period = \"am\" if hour < 12 else \"pm\"\n",
    "    hour = hour % 12\n",
    "    if hour == 0:\n",
    "        hour = 12\n",
    "    return f\"{hour:02}:{minute:02} {period}\"\n",
    "\n",
    "\n",
    "assert clock_face_str(0, 0) == \"12:00 am\"\n",
    "assert clock_face_str(6, 0) == \"06:00 am\"\n",
    "assert clock_face_str(12, 00) == \"12:00 pm\"\n",
    "assert clock_face_str(18, 00) == \"06:00 pm\""
   ]
  },
  {
   "cell_type": "code",
   "execution_count": null,
   "metadata": {},
   "outputs": [],
   "source": []
  },
  {
   "cell_type": "code",
   "execution_count": null,
   "metadata": {},
   "outputs": [],
   "source": []
  },
  {
   "cell_type": "code",
   "execution_count": null,
   "metadata": {},
   "outputs": [],
   "source": []
  },
  {
   "cell_type": "markdown",
   "metadata": {},
   "source": [
    "## Dictionaries"
   ]
  },
  {
   "cell_type": "code",
   "execution_count": null,
   "metadata": {},
   "outputs": [],
   "source": []
  },
  {
   "cell_type": "code",
   "execution_count": null,
   "metadata": {},
   "outputs": [],
   "source": []
  },
  {
   "cell_type": "markdown",
   "metadata": {},
   "source": [
    "## Common operations: len\n",
    "\n",
    "All thes containers shown so far are *sized*, so you can get the number of elements in them (the containers *length*) using the `len` function."
   ]
  },
  {
   "cell_type": "code",
   "execution_count": null,
   "metadata": {},
   "outputs": [],
   "source": [
    "my_tuple = (1, 2, 3)\n",
    "my_list = [1, 2, 3]\n",
    "my_string = \"abc\"\n",
    "my_dict = {\"a\": 1, \"b\": 2, \"c\": 3}\n",
    "\n",
    "print(len(my_tuple))\n",
    "print(len(my_list))\n",
    "print(len(my_string))\n",
    "print(len(my_dict))"
   ]
  },
  {
   "cell_type": "markdown",
   "metadata": {},
   "source": [
    "### Exercise: equal length\n",
    "\n",
    "Write a function `length_is_equal(l1: list[Any], l2: list[Any]) -> bool` that checks whether the lengths of two lists match.  \n"
   ]
  },
  {
   "cell_type": "code",
   "execution_count": null,
   "metadata": {},
   "outputs": [],
   "source": [
    "def length_is_equal(l1, l2):\n",
    "    return len(l1) == len(l2)\n",
    "\n",
    "\n",
    "assert length_is_equal([1, 2, 3], [1, 2, 3])\n",
    "assert not length_is_equal([1, 2], [1, 2, 3])\n",
    "assert not length_is_equal([1, 2, 3], [1, 2])"
   ]
  },
  {
   "cell_type": "code",
   "execution_count": null,
   "metadata": {},
   "outputs": [],
   "source": []
  },
  {
   "cell_type": "code",
   "execution_count": null,
   "metadata": {},
   "outputs": [],
   "source": []
  },
  {
   "cell_type": "code",
   "execution_count": null,
   "metadata": {},
   "outputs": [],
   "source": []
  },
  {
   "cell_type": "markdown",
   "metadata": {},
   "source": [
    "## To Add\n",
    "\n",
    "- blocks, scopes\n",
    "- containers\n",
    "- pathlib\n",
    "- dot notation\n",
    "\n",
    "## Skipped\n",
    "\n",
    "- sharp edge: floating point numbers\n",
    "- augmented assignment\n",
    "- recursion\n",
    "- sharp edge: mutating immutable containers\n",
    "- classes / dataclasses\n",
    "- first-class functions\n",
    "- closures\n",
    "- file i/o\n",
    "- conventions\n",
    "- sets"
   ]
  },
  {
   "cell_type": "code",
   "execution_count": null,
   "metadata": {},
   "outputs": [],
   "source": []
  }
 ],
 "metadata": {
  "kernelspec": {
   "display_name": "embu",
   "language": "python",
   "name": "python3"
  },
  "language_info": {
   "codemirror_mode": {
    "name": "ipython",
    "version": 3
   },
   "file_extension": ".py",
   "mimetype": "text/x-python",
   "name": "python",
   "nbconvert_exporter": "python",
   "pygments_lexer": "ipython3",
   "version": "3.11.4"
  }
 },
 "nbformat": 4,
 "nbformat_minor": 2
}
