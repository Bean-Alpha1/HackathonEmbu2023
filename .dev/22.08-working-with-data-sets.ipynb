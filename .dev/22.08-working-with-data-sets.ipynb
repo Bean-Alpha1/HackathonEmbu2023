{
 "cells": [
  {
   "cell_type": "markdown",
   "metadata": {},
   "source": [
    "LEARNING OBJECTIVES:\n",
    "- List & describe fundamental statistical evaluations\n",
    "- Discuss the use of the t-test/anova as general purpose statistics\n",
    "- \n"
   ]
  },
  {
   "cell_type": "code",
   "execution_count": null,
   "metadata": {},
   "outputs": [],
   "source": [
    "import matplotlib.pyplot as plt\n",
    "import numpy as np\n",
    "import pandas as pd\n",
    "from scipy.integrate import solve_ivp\n",
    "import re\n",
    "import seaborn as sns"
   ]
  },
  {
   "cell_type": "code",
   "execution_count": null,
   "metadata": {},
   "outputs": [],
   "source": [
    "titanic = sns.load_dataset(\"titanic\")"
   ]
  },
  {
   "cell_type": "markdown",
   "metadata": {},
   "source": [
    "# Working with real-world datasets\n",
    "What we did not talk about yet is the fact that often datasets you find in the real world are messy.  \n",
    "Data points may be **missing**, other points may be wrongly measured and lay far **outside** the range of replicates. \n",
    "The data may also be saved in weird formats or otherwise difficult to read. \n",
    "And, most importantly, measurements often follow a certain kind of distribution and we might want to find out if and how something changed between conditions.\n",
    "\n",
    "Let's load a dataset and start with cleaning it - preparing our data for analysis."
   ]
  },
  {
   "cell_type": "markdown",
   "metadata": {},
   "source": [
    "## Problems when loading\n",
    "The first problems can already arise when trying to load the data.  \n",
    "Try and load the file `wrk_example_data.csv`.  "
   ]
  },
  {
   "cell_type": "code",
   "execution_count": null,
   "metadata": {},
   "outputs": [],
   "source": [
    "pd.read_csv(\"../data/wrk_example_data.csv\")"
   ]
  },
  {
   "cell_type": "markdown",
   "metadata": {},
   "source": [
    "### Exercise 1.1\n",
    "Also load the file `viz_example_data.csv` you used before.  \n",
    "Can you make out what went wrong in the previous file?"
   ]
  },
  {
   "cell_type": "code",
   "execution_count": null,
   "metadata": {},
   "outputs": [],
   "source": [
    "df2 = pd.read_table(\"../data/viz_example_data.csv\", sep=\"\\t\")\n",
    "df = pd.read_table(\"../data/wrk_example_data.csv\", sep=\"\\t\")\n",
    "df"
   ]
  },
  {
   "cell_type": "code",
   "execution_count": null,
   "metadata": {},
   "outputs": [],
   "source": []
  },
  {
   "cell_type": "code",
   "execution_count": null,
   "metadata": {},
   "outputs": [],
   "source": []
  },
  {
   "cell_type": "markdown",
   "metadata": {},
   "source": [
    "Another problem can be **file types** that are old, rarely used, or most often *proprietary* - so from a licensed program (e.g. excel).  \n",
    "Such data may be hard to read by most open-source software and often you have to convert them to a common type like csv.  \n",
    "But to do that you have to know exactly which format your data has, but even than proprietary formats just cannot be read without the proper programs.  \n",
    "(Therefore, when depositing data, best export it into an easily readable format)"
   ]
  },
  {
   "cell_type": "markdown",
   "metadata": {},
   "source": [
    "### Exercise 1.2\n",
    "We have saved the same data another format as `wrk_example_data.dta`.  \n",
    "Use 5-10 minutes to google or ask you neighbors to find out which data type that is and find out how to read it into python.  \n",
    "(Tip: you can use pandas)"
   ]
  },
  {
   "cell_type": "code",
   "execution_count": null,
   "metadata": {},
   "outputs": [],
   "source": [
    "df = pd.read_csv(\"../data/viz_example_data.csv\")"
   ]
  },
  {
   "cell_type": "code",
   "execution_count": null,
   "metadata": {},
   "outputs": [],
   "source": []
  },
  {
   "cell_type": "code",
   "execution_count": null,
   "metadata": {},
   "outputs": [],
   "source": []
  },
  {
   "cell_type": "markdown",
   "metadata": {},
   "source": [
    "## Bad values\n",
    "A thing to keep in ming when working with excel.  \n",
    "While excel is quite easy to use and strong for data analysis, it can have problems with automatically assigning data types (like text, number, date, etc.) to values.  \n",
    "Especially when inputting data into a spreadsheet, changing or copying values, make sure that the values are correctly saved.  "
   ]
  },
  {
   "cell_type": "markdown",
   "metadata": {},
   "source": [
    "### Exercise 1.3\n",
    "Load the file `wrk_example_data.xlsx`.  \n",
    "Observe the data and hypothesize what error happened.  \n",
    "Could you reverse it?"
   ]
  },
  {
   "cell_type": "code",
   "execution_count": null,
   "metadata": {},
   "outputs": [],
   "source": [
    "df = pd.read_excel(\"../data/wrk_example_data.xlsx\")"
   ]
  },
  {
   "cell_type": "code",
   "execution_count": null,
   "metadata": {},
   "outputs": [],
   "source": [
    "df"
   ]
  },
  {
   "cell_type": "code",
   "execution_count": null,
   "metadata": {},
   "outputs": [],
   "source": []
  },
  {
   "cell_type": "markdown",
   "metadata": {},
   "source": [
    "## Not Available (NA) or Not a Number (NaN)\n",
    "Let's now go actually bigger datasets that are closer to real world examples.\n",
    "We can look at a dataset on people aboard the titanic which we loaded at the beginning of the notebook as `titanic`."
   ]
  },
  {
   "cell_type": "code",
   "execution_count": null,
   "metadata": {},
   "outputs": [],
   "source": [
    "titanic.head()"
   ]
  },
  {
   "cell_type": "markdown",
   "metadata": {},
   "source": [
    "We can se that there are `NaN`s or `NA`s, so missing values, in the deck column of our data.  \n",
    "This can happen because the value was just not measured or on other cases because a calculation returned with a value that is Not a Number (`NaN`, i.e. division 0/0).  \n",
    "It's important to know that they are there and to decide on how to deal with them.  \n",
    "**By default pandas will ignore them in most applications like sum, mean, etc.**  \n",
    "\n",
    "We should take a closer look at where the `NA`s and how big of a problem they are.  \n",
    "The function `isna` returns a DataFrame where for matrix entry we evalueated as `True`/`False` if the value is `NA`.  \n",
    "Then, the `any` function can tell us if any of the evaluations was True in our columns:  "
   ]
  },
  {
   "cell_type": "code",
   "execution_count": null,
   "metadata": {},
   "outputs": [],
   "source": [
    "titanic.isna().any()"
   ]
  },
  {
   "cell_type": "markdown",
   "metadata": {},
   "source": [
    "### Exercise 1.4 \n",
    "1. Using the `isna` and `value_counts` methods, find out how many peoples' entries contain `NA`s.  \n",
    "2. (optional) Find out in which columns these are and give a recommendation on how to deal with them."
   ]
  },
  {
   "cell_type": "code",
   "execution_count": null,
   "metadata": {},
   "outputs": [],
   "source": [
    "titanic.isna().value_counts()"
   ]
  },
  {
   "cell_type": "code",
   "execution_count": null,
   "metadata": {},
   "outputs": [],
   "source": []
  },
  {
   "cell_type": "code",
   "execution_count": null,
   "metadata": {},
   "outputs": [],
   "source": []
  },
  {
   "cell_type": "markdown",
   "metadata": {},
   "source": [
    "You should have seen that most `NA` entries are in the `deck` column and that only 15% of all entries are fully complete with values.   \n",
    "`pandas` has a function to remove all rows with `Na`s called `dropna`, however right now we would loose far too much data.  \n",
    "Let's assume we are not really interested in the deck the people were on and remove that column - then use `dropna`."
   ]
  },
  {
   "cell_type": "code",
   "execution_count": null,
   "metadata": {},
   "outputs": [],
   "source": [
    "titanic2 = titanic.drop(\"deck\", axis=1)\n",
    "titanic2 = titanic2.dropna()\n",
    "titanic2.head()"
   ]
  }
 ],
 "metadata": {
  "kernelspec": {
   "display_name": "embu",
   "language": "python",
   "name": "python3"
  },
  "language_info": {
   "codemirror_mode": {
    "name": "ipython",
    "version": 3
   },
   "file_extension": ".py",
   "mimetype": "text/x-python",
   "name": "python",
   "nbconvert_exporter": "python",
   "pygments_lexer": "ipython3",
   "version": "3.11.4"
  }
 },
 "nbformat": 4,
 "nbformat_minor": 2
}
