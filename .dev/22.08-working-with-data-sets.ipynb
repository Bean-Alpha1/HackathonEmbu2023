{
 "cells": [
  {
   "cell_type": "markdown",
   "metadata": {},
   "source": [
    "LEARNING OBJECTIVES:\n",
    "- List & describe fundamental statistical evaluations\n",
    "- Discuss the use of the t-test/anova as general purpose statistics\n",
    "- \n"
   ]
  },
  {
   "cell_type": "code",
   "execution_count": null,
   "metadata": {},
   "outputs": [],
   "source": [
    "import matplotlib.pyplot as plt\n",
    "import numpy as np\n",
    "import pandas as pd\n",
    "from scipy.integrate import solve_ivp"
   ]
  },
  {
   "cell_type": "code",
   "execution_count": null,
   "metadata": {},
   "outputs": [],
   "source": []
  },
  {
   "cell_type": "markdown",
   "metadata": {},
   "source": [
    "# Working with real-world datasets\n",
    "What we did not talk about yet is the fact that often datasets you find in the real world are messy.  \n",
    "Data points may be **missing**, other points may be wrongly measured and lay far **outside** the range of replicates.  \n",
    "And, most importantly, measurements often follow a certain kind of distribution and we might want to find out if and how something changed between conditions.\n",
    "\n",
    "Let's load a dataset and start with cleaning the dataset, so preparing our data for analysis."
   ]
  },
  {
   "cell_type": "code",
   "execution_count": null,
   "metadata": {},
   "outputs": [],
   "source": []
  },
  {
   "cell_type": "markdown",
   "metadata": {},
   "source": [
    "## Not Available (NA) or Not a Number (NaN)\n",
    "\n",
    "As we have just noticed there are `NA`s, so missing values, in our data.  \n",
    "This can happen because the value was just not measured or because a calculation returned with a value that is Not a Number (`NaN`, i.e. division 0/0).  \n",
    "It's important to know that they are there and to decide on how to deal with them.  \n",
    "**By default pandas will ignore them in most applications like sum, mean, etc.**  \n",
    "In this case, let's redeefine our data by removing the `NA` containing rows.  \n",
    "The `pandas` function for that is `dropna`."
   ]
  },
  {
   "cell_type": "code",
   "execution_count": null,
   "metadata": {},
   "outputs": [],
   "source": [
    "df = df.dropna()\n",
    "df.head()"
   ]
  }
 ],
 "metadata": {
  "kernelspec": {
   "display_name": "embu",
   "language": "python",
   "name": "python3"
  },
  "language_info": {
   "codemirror_mode": {
    "name": "ipython",
    "version": 3
   },
   "file_extension": ".py",
   "mimetype": "text/x-python",
   "name": "python",
   "nbconvert_exporter": "python",
   "pygments_lexer": "ipython3",
   "version": "3.11.0"
  }
 },
 "nbformat": 4,
 "nbformat_minor": 2
}
