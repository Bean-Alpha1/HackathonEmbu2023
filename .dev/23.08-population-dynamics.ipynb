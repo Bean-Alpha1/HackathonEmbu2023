{
 "cells": [
  {
   "cell_type": "markdown",
   "metadata": {},
   "source": [
    "# Population dynamics"
   ]
  },
  {
   "cell_type": "code",
   "execution_count": null,
   "metadata": {},
   "outputs": [],
   "source": [
    "import matplotlib.pyplot as plt\n",
    "import numpy as np\n",
    "import pandas as pd\n",
    "from scipy.integrate import solve_ivp\n",
    "\n",
    "\n",
    "def integrate(model, y0, parameters, t_end, n_points=100):\n",
    "    sol = solve_ivp(\n",
    "        model,\n",
    "        args=parameters,\n",
    "        y0=list(y0.values()),\n",
    "        t_span=(0, t_end),\n",
    "        t_eval=np.linspace(0, t_end, n_points),\n",
    "        method=\"LSODA\",\n",
    "    )\n",
    "    return pd.DataFrame(sol.y.T, index=sol.t, columns=y0.keys())"
   ]
  },
  {
   "cell_type": "markdown",
   "metadata": {},
   "source": [
    "## Bacterial growth (Exponential)"
   ]
  },
  {
   "cell_type": "code",
   "execution_count": null,
   "metadata": {},
   "outputs": [],
   "source": [
    "def exponential_growth(_, y, k):\n",
    "    return k * y\n",
    "\n",
    "df = integrate(\n",
    "    exponential_growth,\n",
    "    y0={\"E. coli\": 1.0},\n",
    "    parameters=(1,),\n",
    "    t_end=5,\n",
    ")\n",
    "\n",
    "ax = df.plot(\n",
    "    xlabel=\"time / a.u\",\n",
    "    ylabel=\"concentration / a.u.\",\n",
    ")"
   ]
  },
  {
   "cell_type": "markdown",
   "metadata": {},
   "source": [
    "## Bacterial growth (Monod)"
   ]
  },
  {
   "cell_type": "code",
   "execution_count": null,
   "metadata": {},
   "outputs": [],
   "source": [
    "def monod(_, y, mu_max, ks, z):\n",
    "    \"\"\"\n",
    "    mu_max: maximum specific growth rate\n",
    "    ks: half-saturation constant\n",
    "    z: cell yield factor\n",
    "    \"\"\"\n",
    "    microbes, nutrients = y\n",
    "    dmic_dt = mu_max * nutrients / (ks + nutrients) * microbes\n",
    "    dnut_dt = -z * mu_max * nutrients / (ks + nutrients) * microbes\n",
    "    return dmic_dt, dnut_dt\n",
    "    \n",
    "\n",
    "df = integrate(\n",
    "    monod,\n",
    "    y0={\"E. coli\": 1.0, \"Glucose\": 1.0},\n",
    "    parameters=(1, 0.5, 0.1),\n",
    "    t_end=15,\n",
    "    n_points=1000,\n",
    ")\n",
    "\n",
    "ax = df.plot(\n",
    "    xlabel=\"time / a.u\",\n",
    "    ylabel=\"concentration / a.u.\",\n",
    ")"
   ]
  },
  {
   "cell_type": "markdown",
   "metadata": {},
   "source": [
    "## Lotka-Volterra model\n",
    "\n",
    "Lotka (1920) and Volterra (1926) independently from each other created a system of differential equations to understand regular variations in animal populations: \n",
    "\n",
    "$$\\begin{align}    \n",
    "  \\frac{dx}{dt} &= r_1 \\cdot x - C_1 \\cdot x \\cdot y \\\\\n",
    "  \\frac{dy}{dt} &= C_2 \\cdot x \\cdot y - r_2 \\cdot y \\\\\n",
    "\\end{align}$$\n",
    "\n",
    "Here $x$ describes the dynamic of the prey and $y$ the one of the predators. The parameter $r_1$ describes the growth rate of the prey in absence of predators and $r_2$ the growth dying rate of the predators in absence of the prey. The parameters $C_1$ and $C_2$ are coupling parameters that describe, how much prey has to be hunted in order to create a new predator."
   ]
  },
  {
   "cell_type": "code",
   "execution_count": null,
   "metadata": {},
   "outputs": [],
   "source": [
    "def lotka_volterra(_, y, r1, r2, C1, C2):\n",
    "    prey, predator = y\n",
    "    dxdt = r1 * prey - C1 * prey * predator\n",
    "    dydt = C2 * prey * predator - r2 * predator\n",
    "    return dxdt, dydt\n",
    "\n",
    "\n",
    "df = integrate(\n",
    "    lotka_volterra,\n",
    "    y0={\"Prey\": 1.0, \"Predator\": 1.0},\n",
    "    parameters=(1, 1, 0.5, 0.5),\n",
    "    t_end=15,\n",
    "    n_points=1000,\n",
    ")\n",
    "\n",
    "ax = df.plot(\n",
    "    xlabel=\"time / a.u\",\n",
    "    ylabel=\"concentration / a.u.\",\n",
    ")"
   ]
  },
  {
   "cell_type": "markdown",
   "metadata": {},
   "source": [
    "## SIR model\n",
    "\n",
    "- Susceptible (S), Infected (I), Recovered (R)\n",
    "- Total population (N) = S + I + R\n",
    "\n",
    "$$\\begin{align*}\n",
    "    \\frac{dS}{dt} &= -\\beta \\frac{S \\cdot I}{N}  \\\\\n",
    "    \\frac{dI}{dt} &= \\beta \\frac{S \\cdot I}{N} - \\gamma \\cdot I \\\\\n",
    "    \\frac{dR}{dt} &= \\gamma \\cdot I \\\\\n",
    "\\end{align*}$$\n",
    "\n",
    "Let's start with a literal translation of that description."
   ]
  },
  {
   "cell_type": "code",
   "execution_count": null,
   "metadata": {},
   "outputs": [],
   "source": [
    "def sir_v1(_, y, beta, gamma):\n",
    "    s, i, r = y\n",
    "    n = s + i + r\n",
    "\n",
    "    dsdt = -beta * s * i / n\n",
    "    didt = beta * s * i / n - gamma * i\n",
    "    drdt = gamma * i\n",
    "    return dsdt, didt, drdt\n",
    "\n",
    "\n",
    "df = integrate(\n",
    "    sir_v1,\n",
    "    y0={\"S\": 0.9, \"I\": 0.1, \"R\": 0},\n",
    "    parameters=(2, 0.1),\n",
    "    t_end=10,\n",
    ")\n",
    "\n",
    "ax = df.plot(\n",
    "    xlabel=\"time / a.u\",\n",
    "    ylabel=\"concentration / a.u.\",\n",
    ")"
   ]
  },
  {
   "cell_type": "markdown",
   "metadata": {},
   "source": [
    "There is a lot of duplication in the code above (e.g. `beta * s * i / n` appears twice), let's improve on that."
   ]
  },
  {
   "cell_type": "code",
   "execution_count": null,
   "metadata": {},
   "outputs": [],
   "source": [
    "def sir_v2(_, y, beta, gamma):\n",
    "    s, i, r = y\n",
    "    n = s + i + r\n",
    "\n",
    "    infection = beta * s * i / n\n",
    "    recovery = gamma * i\n",
    "\n",
    "    dsdt = -infection\n",
    "    didt = infection - recovery\n",
    "    drdt = recovery\n",
    "    return dsdt, didt, drdt\n",
    "\n",
    "\n",
    "df = integrate(\n",
    "    sir_v2,\n",
    "    y0={\"S\": 0.9, \"I\": 0.1, \"R\": 0},\n",
    "    parameters=(2, 0.1),\n",
    "    t_end=10,\n",
    ")\n",
    "\n",
    "ax = df.plot()"
   ]
  },
  {
   "cell_type": "code",
   "execution_count": null,
   "metadata": {},
   "outputs": [],
   "source": []
  }
 ],
 "metadata": {
  "kernelspec": {
   "display_name": "py311",
   "language": "python",
   "name": "python3"
  },
  "language_info": {
   "codemirror_mode": {
    "name": "ipython",
    "version": 3
   },
   "file_extension": ".py",
   "mimetype": "text/x-python",
   "name": "python",
   "nbconvert_exporter": "python",
   "pygments_lexer": "ipython3",
   "version": "3.11.4"
  }
 },
 "nbformat": 4,
 "nbformat_minor": 2
}
