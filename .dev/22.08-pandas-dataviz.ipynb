{
 "cells": [
  {
   "attachments": {},
   "cell_type": "markdown",
   "metadata": {},
   "source": [
    "LEARNERS:\n",
    "- Master to PhD (possibly Post Doc) students\n",
    "- little computational skills and little programming skills in python\n",
    "- likely researchers in mathematics, statistics, computing, biology and agriculture \n",
    "- approx 30 students\n",
    "\n",
    "\n",
    "LEARNING OBJECTIVES:\n",
    "- Name the basic packages and functions used for data analysis & plotting\n",
    "  - (!) Explain how to create DataFrames / Series in pandas\n",
    "- Name the different types of graphs and which functions to use in python\n",
    "  - (!) Name additional graph types\n",
    "\n",
    "- Summarise the elements of a graph (including fig, ax)\n",
    "  - (!) Give examples of additional graph personalisation with matplotlib (e.g. second y-axis)\n",
    "- Give examples of different graphical elements used for highlighting & differentiating dimensions\n",
    "- Discuss the pros & cons of certain graph types (boxplot, pie chart)\n",
    "\n",
    "- For a given dataset, produce a certain graph\n",
    "  - (!) second/ more complex dataset\n",
    "\n",
    "- Compare different visualisations of a given dataset\n",
    "- (!) Analyse a given dataset and write down the main conclusions\n",
    "- (!) Find and correct errors in a given code\n",
    "\n",
    "Including statistics (?)\n",
    "- List & describe fundamental statistical evaluations\n",
    "- Discuss the use of the t-test/anova as general purpose statistics\n",
    "\n",
    "\n",
    "IMPORTANT NOTES\n",
    "- Remember sandwich rule of input, output, and breaks\n",
    "- Early on clarify\n",
    "  - objectives\n",
    "  - structure\n",
    "  - **relevance**"
   ]
  },
  {
   "cell_type": "markdown",
   "metadata": {},
   "source": [
    "## Presentations\n",
    "1. Introduction\n",
    "   - Introduce facilitators\n",
    "   - Learning objectives\n",
    "   - Session structure\n",
    "   - Stress **relevance** -> example pictures of good/bad graphs\n",
    "2. Matplotlib & Graph types\n",
    "   - Syntax of matplotlib (object oriented: fig, ax)\n",
    "   - Graph types and what to use them for\n",
    "3. "
   ]
  },
  {
   "attachments": {},
   "cell_type": "markdown",
   "metadata": {},
   "source": [
    "# Pandas\n",
    "\n",
    "You have now already learned about calculations and data analysis using the package `numpy`.  \n",
    "While numpy is fast, it's data structure is not annotated and thus not how we would usually handle data.\n",
    "\n",
    "An alternative is `pandas`, a data handling and analysis package.\n",
    "Load it using"
   ]
  },
  {
   "cell_type": "code",
   "execution_count": null,
   "metadata": {},
   "outputs": [],
   "source": [
    "import pandas as pd"
   ]
  },
  {
   "attachments": {},
   "cell_type": "markdown",
   "metadata": {},
   "source": [
    "so that we can use `pandas` with the abbreviation `pd`.  \n",
    "`pandas` introduces the new data types\n",
    "- `Series`: an annotated vector and\n",
    "- `DataFrame`: an annotated matrix with rows (\"index\") and columns (we will focus on this one)\n",
    "\n",
    "The structure of the latter sounds very much like an excel-like spreadsheet and we can easily read in data that has this structure (like excel, csv, tsv) using functions like `pd.read_<filetype>`"
   ]
  },
  {
   "cell_type": "code",
   "execution_count": null,
   "metadata": {},
   "outputs": [],
   "source": [
    "pd.read_csv(\"../data/example_dataset.csv\")"
   ]
  },
  {
   "cell_type": "code",
   "execution_count": null,
   "metadata": {},
   "outputs": [],
   "source": [
    "# A tsv uses \"\\t\" as a separator for its values\n",
    "pd.read_table(\"../data/example_dataset.tsv\", sep=\"\\t\")"
   ]
  },
  {
   "attachments": {},
   "cell_type": "markdown",
   "metadata": {},
   "source": []
  },
  {
   "cell_type": "code",
   "execution_count": null,
   "metadata": {},
   "outputs": [],
   "source": [
    "# This function might produce an error\n",
    "# If so, see the cell below\n",
    "pd.read_excel(\"../data/example_dataset.xlsx\")"
   ]
  },
  {
   "attachments": {},
   "cell_type": "markdown",
   "metadata": {},
   "source": [
    "The last cell might have produced an error. If so, open a terminal and type \n",
    "```bash\n",
    "pip install openpyxl\n",
    "```\n",
    "Then rerun the  previous cell\n",
    "\n",
    "## Penguin data <img src=\"https://raw.githubusercontent.com/allisonhorst/palmerpenguins/main/man/figures/logo.png\" style=\"max-width: 500px\" align=\"right\">\n",
    "\n",
    "\n",
    "This was only meaningless example data, so lets load a real dataset.  \n",
    "This is even possible directly from a website (as long as you have access to it)\n",
    "\n",
    "Here, we are going to use the `palmerpenguins` dataset, a study conducted on antarctic penguins between 2007 and 2009.  \n",
    "There, they measured the penguins height, flipper and bill dimensions and many other dimensions.\n",
    "\n",
    "<img src=\"https://raw.githubusercontent.com/allisonhorst/palmerpenguins/main/man/figures/culmen_depth.png\" style=\"max-width: 500px\">"
   ]
  },
  {
   "cell_type": "code",
   "execution_count": null,
   "metadata": {},
   "outputs": [],
   "source": [
    "df = pd.read_csv(\n",
    "    \"https://raw.githubusercontent.com/allisonhorst/palmerpenguins/main/inst/extdata/penguins.csv\"\n",
    ")"
   ]
  },
  {
   "attachments": {},
   "cell_type": "markdown",
   "metadata": {},
   "source": [
    "The data is now loaded under the name `df` and we can take a look at it.  \n",
    "Type `df.head()` to see the first few rows of the DataFrame."
   ]
  },
  {
   "cell_type": "code",
   "execution_count": null,
   "metadata": {},
   "outputs": [],
   "source": [
    "df.head()"
   ]
  },
  {
   "attachments": {},
   "cell_type": "markdown",
   "metadata": {},
   "source": [
    "## Indexing\n",
    "Like with lists you have to use indexes or slices in square brackets `[]` to access single values or subsets of the DataFrame.  \n",
    "However, in pandas you have to write `.loc` before that, otherwise it will access the columns by default.  \n",
    "To get what is in the first row, for example, you type `df.loc[0]`"
   ]
  },
  {
   "cell_type": "code",
   "execution_count": null,
   "metadata": {},
   "outputs": [],
   "source": [
    "df.loc[0]"
   ]
  },
  {
   "attachments": {},
   "cell_type": "markdown",
   "metadata": {},
   "source": [
    "And to access the *first three rows*, you type `df.loc[0:2]`.  \n",
    "Try out a few of these slices and see if you access what you think you would (compare to your `.head()` printout above).  \n",
    "Do you notice a difference to indexing with lists?"
   ]
  },
  {
   "cell_type": "code",
   "execution_count": null,
   "metadata": {},
   "outputs": [],
   "source": [
    "df.loc[0:2]"
   ]
  },
  {
   "attachments": {},
   "cell_type": "markdown",
   "metadata": {},
   "source": [
    "### Exercise 1.1\n",
    "1. Of which species are the penguins 220-225? On which island were they caught?\n",
    "2. (optional) Find the point in the data where the species of the penguins changes from Gentoo to Chinstrap\n",
    "3. (optional) There are two penguins for which these measurements weren't recorded (`NA`), find them "
   ]
  },
  {
   "cell_type": "code",
   "execution_count": null,
   "metadata": {},
   "outputs": [],
   "source": [
    "df.loc[300]"
   ]
  },
  {
   "cell_type": "code",
   "execution_count": null,
   "metadata": {},
   "outputs": [],
   "source": []
  },
  {
   "cell_type": "code",
   "execution_count": null,
   "metadata": {},
   "outputs": [],
   "source": []
  },
  {
   "attachments": {},
   "cell_type": "markdown",
   "metadata": {},
   "source": [
    "Now, to restrict also the columns to subsets of columns or single values, use the syntax `.loc[<row(s)>, <column(s)>]`.  \n",
    "For example, to get the species if the second penguin, write `df.loc[2, \"species\"]`.  \n",
    "Note that you use the *name* of the column to access it (actually, we have been using the row names also up until now).  \n",
    "You can also input a list of row and/or column names in the respective position to be even more specific, try for example `.loc[:, [\"species\", \"year\"]]`\n",
    "\n",
    "Using this notation, we can access almost anything we desire in the data and we can now start to use other functions on it to begin analysis.  \n",
    "For example, the `value_counts` method counts the occurrences of each unique entry.  \n",
    "If you select a column or subset with numerical values, you can also directly calculate the `max`, `min`, `mean`, `sum`, ... .\n",
    "\n",
    "### Exercise 1.2\n",
    "1. How many penguins were recorded each year?\n",
    "2. What is the maximum flipper length?\n",
    "3. How many penguins of each species were found per island? (Tip: try selection two columns and then using `value_counts`)\n",
    "4. (optional) Get the median body mass of the first 20 penguins.\n",
    "5. (optional) Find a function that outputs if a value is `NA` (Tip: type `df.` and then the tab key to search for a function that sounds right)"
   ]
  },
  {
   "cell_type": "code",
   "execution_count": null,
   "metadata": {},
   "outputs": [],
   "source": []
  },
  {
   "cell_type": "code",
   "execution_count": null,
   "metadata": {},
   "outputs": [],
   "source": []
  },
  {
   "cell_type": "code",
   "execution_count": null,
   "metadata": {},
   "outputs": [],
   "source": []
  },
  {
   "attachments": {},
   "cell_type": "markdown",
   "metadata": {},
   "source": [
    "## Not Available (NA) or Not a Number (NaN)\n",
    "\n",
    "As we have just noticed there are `NA`s, so missing values, in our data.  \n",
    "This can happen because the value was just not measured or because a calculation returned with a value that is Not a Number (`NaN`, i.e. division 0/0).  \n",
    "It's important to know that they are there and to decide on how to deal with them.  \n",
    "**By default pandas will ignore them in most applications like sum, mean, etc.**  \n",
    "In this case, let's redeefine our data by removing the `NA` containing rows.  \n",
    "The `pandas` function for that is `dropna`."
   ]
  },
  {
   "cell_type": "code",
   "execution_count": null,
   "metadata": {},
   "outputs": [],
   "source": [
    "df = df.dropna()\n",
    "df.head()"
   ]
  },
  {
   "attachments": {},
   "cell_type": "markdown",
   "metadata": {},
   "source": [
    "## Plotting with Pandas (short)\n",
    "\n",
    "With out newly cleaned data we can now try a bit more data analysis.\n",
    "\n",
    "Pandas by itself can be used for plotting by using the `plot` method of our DataFrame.  \n",
    "We won't be going into much detail with it, but it is very handy to make a fast and easy plot.\n",
    "\n",
    "For example, we can make a histogram and look at the"
   ]
  },
  {
   "attachments": {},
   "cell_type": "markdown",
   "metadata": {},
   "source": [
    "Let's make a slightly more complex and plot the number of penguins per year that we counted before.  \n",
    "For that we apply first the `value_counts` method and then the `plot` right after."
   ]
  },
  {
   "cell_type": "code",
   "execution_count": null,
   "metadata": {},
   "outputs": [],
   "source": [
    "df.value_counts(\"island\").plot(kind=\"bar\")"
   ]
  },
  {
   "attachments": {},
   "cell_type": "markdown",
   "metadata": {},
   "source": [
    "Note that to make it easier to read I added line breaks after each operation.  \n",
    "In Python you can only do that if you put the code into parentheses `()`"
   ]
  },
  {
   "cell_type": "code",
   "execution_count": null,
   "metadata": {},
   "outputs": [],
   "source": [
    "(\n",
    "    df\n",
    "    .value_counts(\"island\")\n",
    "    .plot(kind=\"bar\")\n",
    ")"
   ]
  },
  {
   "attachments": {},
   "cell_type": "markdown",
   "metadata": {},
   "source": [
    "### Exercise 1.3\n",
    "1. Make a bar graph with how many penguins were recorded each year.\n",
    "2. What is the maximum flipper length?"
   ]
  },
  {
   "cell_type": "code",
   "execution_count": null,
   "metadata": {},
   "outputs": [],
   "source": []
  },
  {
   "cell_type": "code",
   "execution_count": null,
   "metadata": {},
   "outputs": [],
   "source": []
  },
  {
   "cell_type": "markdown",
   "metadata": {},
   "source": [
    "### Groupby\n",
    "\n",
    "One very powerful technique to work on data is to split it into different groups, applying a function on each group and then combining the results of each operation again.  \n",
    "Pandas has a function called `groupby` which can be used for this.  \n",
    "\n",
    "In the example below, we will \n",
    "\n",
    "1. group the Penguins by their sex\n",
    "2. select the bill length column\n",
    "3. calculate the *mean value* of that column\n",
    "\n",
    "In this way you can show if there are differences *between the two groups*\n"
   ]
  },
  {
   "cell_type": "code",
   "execution_count": null,
   "metadata": {},
   "outputs": [],
   "source": [
    "(\n",
    "    df\n",
    "    .groupby(\"sex\")\n",
    "    [\"bill_length_mm\"]\n",
    "    .mean()\n",
    ")"
   ]
  },
  {
   "cell_type": "markdown",
   "metadata": {},
   "source": [
    "We can plot this result directly as a barplot:"
   ]
  },
  {
   "cell_type": "code",
   "execution_count": null,
   "metadata": {},
   "outputs": [],
   "source": [
    "(\n",
    "    df\n",
    "    .groupby(\"sex\")\n",
    "    [\"bill_length_mm\"]\n",
    "    .mean()\n",
    "    .plot(\n",
    "        kind=\"bar\", \n",
    "        ylabel=\"Bill length [mm]\"\n",
    "    )\n",
    ")"
   ]
  },
  {
   "attachments": {},
   "cell_type": "markdown",
   "metadata": {},
   "source": [
    "----\n",
    "## Checkpoint\n",
    "Please indicate when you arrive at this point as we would like to have a **short presentation**\n",
    "\n",
    "----"
   ]
  },
  {
   "attachments": {},
   "cell_type": "markdown",
   "metadata": {},
   "source": [
    "# Data Visualisation with Seaborn\n",
    "Now that you have heard about all of these plotting types, we can explore how they are created in python.\n",
    "\n",
    "## Histogram\n",
    "A histogram is an easy way to visualise the distribution of our data.  \n",
    "There are methods to plot directly from a dataframe, however we will show you another very user friendly package for plotting: `seaborn`\n",
    "\n",
    "Let's import seaborn and plot a histogram using the function `histplot`"
   ]
  },
  {
   "cell_type": "code",
   "execution_count": null,
   "metadata": {},
   "outputs": [],
   "source": [
    "import seaborn as sns"
   ]
  },
  {
   "cell_type": "code",
   "execution_count": null,
   "metadata": {},
   "outputs": [],
   "source": [
    "ax = sns.histplot(df, x=\"bill_length_mm\")"
   ]
  },
  {
   "attachments": {},
   "cell_type": "markdown",
   "metadata": {},
   "source": [
    "Imagine you saw the plot above in someone elses work, would you be satisfied with it?  \n",
    "No! It is lacking a label for the x-axis and a title!  \n",
    "Let's fix that.\n",
    "\n",
    "For this, let's use the syntax of matplotlib with `ax` (and `fig`)"
   ]
  },
  {
   "cell_type": "code",
   "execution_count": null,
   "metadata": {},
   "outputs": [],
   "source": [
    "ax = sns.histplot(df, x=\"bill_length_mm\")\n",
    "ax.set_xlabel(\"Length [mm]\")\n",
    "ax.set_title(\"Bill length distribution\")"
   ]
  },
  {
   "attachments": {},
   "cell_type": "markdown",
   "metadata": {},
   "source": [
    "### Exercise 2.1\n",
    "1. Plot a histogram of the flipper length (with correct axis annotation).<br>Do you see something interesting? Can you think of a reason for the distribution shape?\n",
    "2. (optional) Plot histograms for the other variables and observe their distributions. What do you observe?\n",
    "3. (optional) As mentioned, there is a method (actually multiple related ones) of plotting directly from our DataFrame `df`. Try to find out how and plot a histogram that way."
   ]
  },
  {
   "cell_type": "code",
   "execution_count": null,
   "metadata": {},
   "outputs": [],
   "source": []
  },
  {
   "cell_type": "code",
   "execution_count": null,
   "metadata": {},
   "outputs": [],
   "source": [
    "# Exercise 2.1-3 Selecting the plotted column prior\n",
    "ax = df[\"flipper_length_mm\"].plot(kind=\"hist\")\n",
    "ax.set_xlabel(\"Length [mm]\")\n",
    "ax.set_title(\"Flipper length distribution\")"
   ]
  },
  {
   "cell_type": "code",
   "execution_count": null,
   "metadata": {},
   "outputs": [],
   "source": [
    "# Exercise 2.1-3 Selecting the plotted column within the method call\n",
    "ax = df.plot(y = \"flipper_length_mm\", kind=\"hist\")\n",
    "ax.set_xlabel(\"Length [mm]\")\n",
    "ax.set_title(\"Flipper length distribution\")"
   ]
  },
  {
   "attachments": {},
   "cell_type": "markdown",
   "metadata": {},
   "source": [
    "## Scatter plot\n",
    "Assume now you have two two continuos variables you want to plot against eachother.  \n",
    "For example, you hypothesise that overall larger penguins have a higher flipper length.  \n",
    "Often  scatter plot is often the easiest choice:\n",
    "\n",
    "For this, specify the columns you want plotted as `x` and `y` and use the `scatterplot` function."
   ]
  },
  {
   "cell_type": "code",
   "execution_count": null,
   "metadata": {},
   "outputs": [],
   "source": [
    "ax = sns.scatterplot(df, x=\"flipper_length_mm\", y=\"body_mass_g\")\n",
    "\n",
    "ax.set_xlabel(\"Flipper length [mm]\")\n",
    "ax.set_ylabel(\"Body mass [g]\")\n",
    "ax.set_title(\"Body mass vs. Flipper length\")"
   ]
  },
  {
   "attachments": {},
   "cell_type": "markdown",
   "metadata": {},
   "source": [
    "### Exercise 2.2\n",
    "1. Plot the flipper length against the bill depth. How do you explain this behaviour?\n",
    "2. Other variables show a similar pattern when plotted against each other. Find another example.\n",
    "3. (optional) The seaborn `scatterplot` can also use nominal variables (like the island names). Make a plot with such a column. What can you see? Does this type of plot make sense here?"
   ]
  },
  {
   "cell_type": "code",
   "execution_count": null,
   "metadata": {},
   "outputs": [],
   "source": [
    "ax = sns.scatterplot(df, x=\"flipper_length_mm\", y=\"bill_depth_mm\")\n",
    "\n",
    "ax.set_xlabel(\"Flipper length [mm]\")\n",
    "ax.set_ylabel(\"Bill depth [mm]\")\n",
    "ax.set_title(\"Bill depth vs. Flipper length\")"
   ]
  },
  {
   "cell_type": "code",
   "execution_count": null,
   "metadata": {},
   "outputs": [],
   "source": [
    "sns.scatterplot(df, x=\"island\", y=\"bill_depth_mm\")"
   ]
  },
  {
   "cell_type": "code",
   "execution_count": null,
   "metadata": {},
   "outputs": [],
   "source": []
  },
  {
   "attachments": {},
   "cell_type": "markdown",
   "metadata": {},
   "source": [
    "## Pair Plot\n",
    "\n",
    "If you start out with a multi-variable dataset and want to explore relationships within, it would be a good idea to use the previous plot types and systematically plot all distributions and pairwise relations.  \n",
    "Luckily, there is a function for that: `sns.pairplot`"
   ]
  },
  {
   "cell_type": "code",
   "execution_count": null,
   "metadata": {},
   "outputs": [],
   "source": [
    "axes = sns.pairplot(df)"
   ]
  },
  {
   "attachments": {},
   "cell_type": "markdown",
   "metadata": {},
   "source": [
    "Yo can see that at the intersection rows and columns with the identical label, that variable is plotted as a histogram and all other pairs are scatter-plotted.  \n",
    "From here, you might find a relationship that sounds interesting to you and that you can investigate further.  \n",
    "\n",
    "Do you notice something *missing* in this previous plot?"
   ]
  },
  {
   "cell_type": "markdown",
   "metadata": {},
   "source": [
    "##  Line plot\n",
    "Line plots are very common if you have one variable clearly dependent on another one, say a penguins *number* over *time*.  \n",
    "In this dataset, let's plot the counts of penguins on the different islands over the years!"
   ]
  },
  {
   "cell_type": "code",
   "execution_count": null,
   "metadata": {},
   "outputs": [],
   "source": [
    "ax = sns.lineplot(df.value_counts(\"year\"))\n",
    "\n",
    "ax.set_xlabel(\"Year\")\n",
    "ax.set_ylabel(\"Number of Penguins measured\")"
   ]
  },
  {
   "cell_type": "markdown",
   "metadata": {},
   "source": [
    "This plot however makes it seem like there are huge changes between the years because the y-axis is so zoomed in.  \n",
    "Lets set the lower limit to `0`.  \n",
    "Let's also fix the x-axis ticks, since we're only interested in the full years"
   ]
  },
  {
   "cell_type": "code",
   "execution_count": null,
   "metadata": {},
   "outputs": [],
   "source": [
    "ax = sns.lineplot(df.value_counts(\"year\"))\n",
    "ax.set_ylim(0)\n",
    "ax.set_xticks([2007, 2008, 2009])\n",
    "\n",
    "ax.set_xlabel(\"Year\")\n",
    "ax.set_ylabel(\"Number of Penguins measured\")"
   ]
  },
  {
   "cell_type": "markdown",
   "metadata": {},
   "source": [
    "## Boxplot & Violinplot\n",
    "Often times you will want to compare a continuous dependent variable (like the flipper length or bill depth) between levels of a discrete independent variable (like the island, year, species, etc.).  \n",
    "In this case, you are usually interested if the dependent variables' **distribution** is different between the cases.  \n",
    "A common visualisation here are `boxplots`, showing a basic summary of the distribution:"
   ]
  },
  {
   "cell_type": "code",
   "execution_count": null,
   "metadata": {},
   "outputs": [],
   "source": [
    "sns.boxplot(df, x=\"island\", y=\"bill_depth_mm\")"
   ]
  },
  {
   "cell_type": "markdown",
   "metadata": {},
   "source": [
    "`violinplots` are very similar to boxplots but give a clearer overview of the distribution, especially for if it is non-normal.  \n",
    "They estimate the fraction of data points with a certain y-value and plot this as width of the coloured area.  \n",
    "(In seaborn the violinplot even contains a small boxplot)."
   ]
  },
  {
   "cell_type": "code",
   "execution_count": null,
   "metadata": {},
   "outputs": [],
   "source": [
    "sns.violinplot(df, x=\"island\", y=\"bill_depth_mm\")"
   ]
  },
  {
   "cell_type": "markdown",
   "metadata": {},
   "source": [
    "## Hexbin (optional)\n",
    "If you have a large amount of data points then a scatterplot might become overloaded as many points overlap.  \n",
    "Then, a `hexbin` plot is a nice alternative, as it represents the number of points in a certain (hexagonal) area of the plot as colour.  \n",
    "This plot is a bit more complex when generated by seaborn so the syntax to renaming axes is different"
   ]
  },
  {
   "cell_type": "code",
   "execution_count": null,
   "metadata": {},
   "outputs": [],
   "source": [
    "g = sns.jointplot(df, x=\"flipper_length_mm\", y=\"bill_depth_mm\", kind=\"hex\")\n",
    "\n",
    "g.set_axis_labels(xlabel=\"Flipper length [mm]\", ylabel=\"Bill depth [mm]\")"
   ]
  },
  {
   "cell_type": "markdown",
   "metadata": {},
   "source": [
    "## Heatmap (optional)\n",
    "There are also cases in which you have a whole matrix of values where rows and columns represent discrete values of a dependent and independent variable, respectively.  \n",
    "In this case, it is common to use a `heatmap` to visualise the data values as different colours.\n",
    "For example, you might show the expression value of a gene (row) in different mutants (columns) as the colour of the respective square.\n",
    "\n",
    "Lets assume our initial example dataset represented such gene measurements and let's plot is as a heatmap.  \n",
    "Load the file `example_dataset_wide.csv`"
   ]
  },
  {
   "cell_type": "code",
   "execution_count": null,
   "metadata": {},
   "outputs": [],
   "source": [
    "df2 = pd.read_csv(\"../data/example_dataset_wide.csv\", index_col=0)\n",
    "\n",
    "sns.heatmap(df2)"
   ]
  },
  {
   "attachments": {},
   "cell_type": "markdown",
   "metadata": {},
   "source": [
    "## Colours & Shapes\n",
    "Lastly it is good to consider colours and shapes in our plots.  \n",
    "Of course, we can simply colour our plots as we like.  \n",
    "For this use the `color` argument:"
   ]
  },
  {
   "cell_type": "code",
   "execution_count": null,
   "metadata": {},
   "outputs": [],
   "source": [
    "ax = sns.scatterplot(df, x=\"flipper_length_mm\", y=\"body_mass_g\", color=\"orange\")"
   ]
  },
  {
   "attachments": {},
   "cell_type": "markdown",
   "metadata": {},
   "source": [
    "However, colour can do so much more.  \n",
    "The `hue` argument allows you to *name* a column by which the points are coloured.\n",
    "\n",
    "Because the commands are getting long now, we can split them over multiple lines so that we can read them better.  \n",
    "(Remember that only code in parentheses can be split)"
   ]
  },
  {
   "cell_type": "code",
   "execution_count": null,
   "metadata": {},
   "outputs": [],
   "source": [
    "ax = sns.scatterplot(\n",
    "    df,\n",
    "    x=\"flipper_length_mm\",\n",
    "    y=\"body_mass_g\",\n",
    "    hue=\"bill_length_mm\",\n",
    ")"
   ]
  },
  {
   "attachments": {},
   "cell_type": "markdown",
   "metadata": {},
   "source": [
    "Customising the color palette of your plot is easy with the `palette` argument.  \n",
    "By default, there are four such palettes, `\"rocket\"`, `\"mako\"`, `\"flare\"`, and `\"crest\"`, but you can create your own!"
   ]
  },
  {
   "attachments": {},
   "cell_type": "markdown",
   "metadata": {},
   "source": [
    "`seaborn` also allows you to use colours to distinguish discrete column values like `island`"
   ]
  },
  {
   "cell_type": "code",
   "execution_count": null,
   "metadata": {},
   "outputs": [],
   "source": [
    "ax = sns.scatterplot(\n",
    "    df,\n",
    "    x=\"flipper_length_mm\",\n",
    "    y=\"body_mass_g\",\n",
    "    hue=\"island\",\n",
    ")"
   ]
  },
  {
   "cell_type": "markdown",
   "metadata": {},
   "source": [
    "But for discrete values with few different values the `shape` is also a great way to distinguish.  \n",
    "The seaborn argument for determining the shape from a column is `style`."
   ]
  },
  {
   "cell_type": "code",
   "execution_count": null,
   "metadata": {},
   "outputs": [],
   "source": [
    "ax = sns.scatterplot(\n",
    "    df,\n",
    "    x=\"flipper_length_mm\",\n",
    "    y=\"body_mass_g\",\n",
    "    style=\"island\"\n",
    ")"
   ]
  },
  {
   "attachments": {},
   "cell_type": "markdown",
   "metadata": {},
   "source": [
    "And of course these arguments can be combined in one plot.  \n",
    "This allows you to differentiate even more dimensions (columns) of your dataset or guide the readers better!  \n",
    "For example, using the same vaiable for colour **and** style makes the points even easier to distinguish:"
   ]
  },
  {
   "cell_type": "code",
   "execution_count": null,
   "metadata": {},
   "outputs": [],
   "source": [
    "ax = sns.scatterplot(\n",
    "    df,\n",
    "    x=\"flipper_length_mm\",\n",
    "    y=\"body_mass_g\",\n",
    "    hue=\"island\",\n",
    "    style=\"island\"\n",
    ")"
   ]
  }
 ],
 "metadata": {
  "kernelspec": {
   "display_name": "embuws",
   "language": "python",
   "name": "python3"
  },
  "language_info": {
   "codemirror_mode": {
    "name": "ipython",
    "version": 3
   },
   "file_extension": ".py",
   "mimetype": "text/x-python",
   "name": "python",
   "nbconvert_exporter": "python",
   "pygments_lexer": "ipython3",
   "version": "3.11.4"
  }
 },
 "nbformat": 4,
 "nbformat_minor": 2
}
